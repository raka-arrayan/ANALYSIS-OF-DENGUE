{
  "nbformat": 4,
  "nbformat_minor": 0,
  "metadata": {
    "colab": {
      "provenance": []
    },
    "kernelspec": {
      "name": "python3",
      "display_name": "Python 3"
    },
    "language_info": {
      "name": "python"
    }
  },
  "cells": [
    {
      "cell_type": "markdown",
      "source": [
        "# RAKA ARRAYAN (ANALYSIS OF DENGUE)"
      ],
      "metadata": {
        "id": "jG8XbTZ4b5pg"
      }
    },
    {
      "cell_type": "markdown",
      "source": [
        "# **Data Preparation**"
      ],
      "metadata": {
        "id": "5FNCvTN5GT--"
      }
    },
    {
      "cell_type": "markdown",
      "source": [
        "**Import Library dan Data**"
      ],
      "metadata": {
        "id": "9kSvfYRcfLdU"
      }
    },
    {
      "cell_type": "code",
      "execution_count": 20,
      "metadata": {
        "colab": {
          "base_uri": "https://localhost:8080/",
          "height": 73
        },
        "id": "78-G_JySe7EY",
        "outputId": "ac5c156d-6b5a-443a-ed11-7f6fab9dfb36"
      },
      "outputs": [
        {
          "output_type": "display_data",
          "data": {
            "text/plain": [
              "<IPython.core.display.HTML object>"
            ],
            "text/html": [
              "\n",
              "     <input type=\"file\" id=\"files-9fee104a-2912-4220-8bcb-d81fc0d35878\" name=\"files[]\" multiple disabled\n",
              "        style=\"border:none\" />\n",
              "     <output id=\"result-9fee104a-2912-4220-8bcb-d81fc0d35878\">\n",
              "      Upload widget is only available when the cell has been executed in the\n",
              "      current browser session. Please rerun this cell to enable.\n",
              "      </output>\n",
              "      <script>// Copyright 2017 Google LLC\n",
              "//\n",
              "// Licensed under the Apache License, Version 2.0 (the \"License\");\n",
              "// you may not use this file except in compliance with the License.\n",
              "// You may obtain a copy of the License at\n",
              "//\n",
              "//      http://www.apache.org/licenses/LICENSE-2.0\n",
              "//\n",
              "// Unless required by applicable law or agreed to in writing, software\n",
              "// distributed under the License is distributed on an \"AS IS\" BASIS,\n",
              "// WITHOUT WARRANTIES OR CONDITIONS OF ANY KIND, either express or implied.\n",
              "// See the License for the specific language governing permissions and\n",
              "// limitations under the License.\n",
              "\n",
              "/**\n",
              " * @fileoverview Helpers for google.colab Python module.\n",
              " */\n",
              "(function(scope) {\n",
              "function span(text, styleAttributes = {}) {\n",
              "  const element = document.createElement('span');\n",
              "  element.textContent = text;\n",
              "  for (const key of Object.keys(styleAttributes)) {\n",
              "    element.style[key] = styleAttributes[key];\n",
              "  }\n",
              "  return element;\n",
              "}\n",
              "\n",
              "// Max number of bytes which will be uploaded at a time.\n",
              "const MAX_PAYLOAD_SIZE = 100 * 1024;\n",
              "\n",
              "function _uploadFiles(inputId, outputId) {\n",
              "  const steps = uploadFilesStep(inputId, outputId);\n",
              "  const outputElement = document.getElementById(outputId);\n",
              "  // Cache steps on the outputElement to make it available for the next call\n",
              "  // to uploadFilesContinue from Python.\n",
              "  outputElement.steps = steps;\n",
              "\n",
              "  return _uploadFilesContinue(outputId);\n",
              "}\n",
              "\n",
              "// This is roughly an async generator (not supported in the browser yet),\n",
              "// where there are multiple asynchronous steps and the Python side is going\n",
              "// to poll for completion of each step.\n",
              "// This uses a Promise to block the python side on completion of each step,\n",
              "// then passes the result of the previous step as the input to the next step.\n",
              "function _uploadFilesContinue(outputId) {\n",
              "  const outputElement = document.getElementById(outputId);\n",
              "  const steps = outputElement.steps;\n",
              "\n",
              "  const next = steps.next(outputElement.lastPromiseValue);\n",
              "  return Promise.resolve(next.value.promise).then((value) => {\n",
              "    // Cache the last promise value to make it available to the next\n",
              "    // step of the generator.\n",
              "    outputElement.lastPromiseValue = value;\n",
              "    return next.value.response;\n",
              "  });\n",
              "}\n",
              "\n",
              "/**\n",
              " * Generator function which is called between each async step of the upload\n",
              " * process.\n",
              " * @param {string} inputId Element ID of the input file picker element.\n",
              " * @param {string} outputId Element ID of the output display.\n",
              " * @return {!Iterable<!Object>} Iterable of next steps.\n",
              " */\n",
              "function* uploadFilesStep(inputId, outputId) {\n",
              "  const inputElement = document.getElementById(inputId);\n",
              "  inputElement.disabled = false;\n",
              "\n",
              "  const outputElement = document.getElementById(outputId);\n",
              "  outputElement.innerHTML = '';\n",
              "\n",
              "  const pickedPromise = new Promise((resolve) => {\n",
              "    inputElement.addEventListener('change', (e) => {\n",
              "      resolve(e.target.files);\n",
              "    });\n",
              "  });\n",
              "\n",
              "  const cancel = document.createElement('button');\n",
              "  inputElement.parentElement.appendChild(cancel);\n",
              "  cancel.textContent = 'Cancel upload';\n",
              "  const cancelPromise = new Promise((resolve) => {\n",
              "    cancel.onclick = () => {\n",
              "      resolve(null);\n",
              "    };\n",
              "  });\n",
              "\n",
              "  // Wait for the user to pick the files.\n",
              "  const files = yield {\n",
              "    promise: Promise.race([pickedPromise, cancelPromise]),\n",
              "    response: {\n",
              "      action: 'starting',\n",
              "    }\n",
              "  };\n",
              "\n",
              "  cancel.remove();\n",
              "\n",
              "  // Disable the input element since further picks are not allowed.\n",
              "  inputElement.disabled = true;\n",
              "\n",
              "  if (!files) {\n",
              "    return {\n",
              "      response: {\n",
              "        action: 'complete',\n",
              "      }\n",
              "    };\n",
              "  }\n",
              "\n",
              "  for (const file of files) {\n",
              "    const li = document.createElement('li');\n",
              "    li.append(span(file.name, {fontWeight: 'bold'}));\n",
              "    li.append(span(\n",
              "        `(${file.type || 'n/a'}) - ${file.size} bytes, ` +\n",
              "        `last modified: ${\n",
              "            file.lastModifiedDate ? file.lastModifiedDate.toLocaleDateString() :\n",
              "                                    'n/a'} - `));\n",
              "    const percent = span('0% done');\n",
              "    li.appendChild(percent);\n",
              "\n",
              "    outputElement.appendChild(li);\n",
              "\n",
              "    const fileDataPromise = new Promise((resolve) => {\n",
              "      const reader = new FileReader();\n",
              "      reader.onload = (e) => {\n",
              "        resolve(e.target.result);\n",
              "      };\n",
              "      reader.readAsArrayBuffer(file);\n",
              "    });\n",
              "    // Wait for the data to be ready.\n",
              "    let fileData = yield {\n",
              "      promise: fileDataPromise,\n",
              "      response: {\n",
              "        action: 'continue',\n",
              "      }\n",
              "    };\n",
              "\n",
              "    // Use a chunked sending to avoid message size limits. See b/62115660.\n",
              "    let position = 0;\n",
              "    do {\n",
              "      const length = Math.min(fileData.byteLength - position, MAX_PAYLOAD_SIZE);\n",
              "      const chunk = new Uint8Array(fileData, position, length);\n",
              "      position += length;\n",
              "\n",
              "      const base64 = btoa(String.fromCharCode.apply(null, chunk));\n",
              "      yield {\n",
              "        response: {\n",
              "          action: 'append',\n",
              "          file: file.name,\n",
              "          data: base64,\n",
              "        },\n",
              "      };\n",
              "\n",
              "      let percentDone = fileData.byteLength === 0 ?\n",
              "          100 :\n",
              "          Math.round((position / fileData.byteLength) * 100);\n",
              "      percent.textContent = `${percentDone}% done`;\n",
              "\n",
              "    } while (position < fileData.byteLength);\n",
              "  }\n",
              "\n",
              "  // All done.\n",
              "  yield {\n",
              "    response: {\n",
              "      action: 'complete',\n",
              "    }\n",
              "  };\n",
              "}\n",
              "\n",
              "scope.google = scope.google || {};\n",
              "scope.google.colab = scope.google.colab || {};\n",
              "scope.google.colab._files = {\n",
              "  _uploadFiles,\n",
              "  _uploadFilesContinue,\n",
              "};\n",
              "})(self);\n",
              "</script> "
            ]
          },
          "metadata": {}
        },
        {
          "output_type": "stream",
          "name": "stdout",
          "text": [
            "Saving Dataset.csv to Dataset (1).csv\n"
          ]
        }
      ],
      "source": [
        "from google.colab import files\n",
        "upload=files.upload()"
      ]
    },
    {
      "cell_type": "code",
      "source": [
        "import pandas as pd\n",
        "\n",
        "df = pd.read_csv('Dataset.csv')\n",
        "df"
      ],
      "metadata": {
        "colab": {
          "base_uri": "https://localhost:8080/",
          "height": 423
        },
        "id": "iTy0QIOufe3O",
        "outputId": "8b4dd7bb-c7ec-4f71-fb34-151577027769"
      },
      "execution_count": 21,
      "outputs": [
        {
          "output_type": "execute_result",
          "data": {
            "text/plain": [
              "     Gender  Age  NS1  IgG  IgM        Area     AreaType HouseType District  \\\n",
              "0    Female   45    0    0    0      Mirpur  Undeveloped  Building    Dhaka   \n",
              "1      Male   17    0    0    1  Chawkbazar    Developed  Building    Dhaka   \n",
              "2    Female   29    0    0    0      Paltan  Undeveloped     Other    Dhaka   \n",
              "3    Female   63    1    1    0   Motijheel    Developed     Other    Dhaka   \n",
              "4      Male   22    0    0    0    Gendaria  Undeveloped  Building    Dhaka   \n",
              "..      ...  ...  ...  ...  ...         ...          ...       ...      ...   \n",
              "995  Female   16    1    1    0  New Market    Developed  Building    Dhaka   \n",
              "996    Male   41    1    1    0      Paltan  Undeveloped     Other    Dhaka   \n",
              "997    Male   45    0    0    1   Motijheel    Developed  Building    Dhaka   \n",
              "998  Female   19    1    1    1      Paltan  Undeveloped  Building    Dhaka   \n",
              "999  Female   28    0    0    1      Adabor    Developed  Building    Dhaka   \n",
              "\n",
              "     Outcome  \n",
              "0          0  \n",
              "1          0  \n",
              "2          0  \n",
              "3          1  \n",
              "4          0  \n",
              "..       ...  \n",
              "995        1  \n",
              "996        1  \n",
              "997        0  \n",
              "998        1  \n",
              "999        0  \n",
              "\n",
              "[1000 rows x 10 columns]"
            ],
            "text/html": [
              "\n",
              "  <div id=\"df-aa52defd-e230-46f5-8298-329160931946\" class=\"colab-df-container\">\n",
              "    <div>\n",
              "<style scoped>\n",
              "    .dataframe tbody tr th:only-of-type {\n",
              "        vertical-align: middle;\n",
              "    }\n",
              "\n",
              "    .dataframe tbody tr th {\n",
              "        vertical-align: top;\n",
              "    }\n",
              "\n",
              "    .dataframe thead th {\n",
              "        text-align: right;\n",
              "    }\n",
              "</style>\n",
              "<table border=\"1\" class=\"dataframe\">\n",
              "  <thead>\n",
              "    <tr style=\"text-align: right;\">\n",
              "      <th></th>\n",
              "      <th>Gender</th>\n",
              "      <th>Age</th>\n",
              "      <th>NS1</th>\n",
              "      <th>IgG</th>\n",
              "      <th>IgM</th>\n",
              "      <th>Area</th>\n",
              "      <th>AreaType</th>\n",
              "      <th>HouseType</th>\n",
              "      <th>District</th>\n",
              "      <th>Outcome</th>\n",
              "    </tr>\n",
              "  </thead>\n",
              "  <tbody>\n",
              "    <tr>\n",
              "      <th>0</th>\n",
              "      <td>Female</td>\n",
              "      <td>45</td>\n",
              "      <td>0</td>\n",
              "      <td>0</td>\n",
              "      <td>0</td>\n",
              "      <td>Mirpur</td>\n",
              "      <td>Undeveloped</td>\n",
              "      <td>Building</td>\n",
              "      <td>Dhaka</td>\n",
              "      <td>0</td>\n",
              "    </tr>\n",
              "    <tr>\n",
              "      <th>1</th>\n",
              "      <td>Male</td>\n",
              "      <td>17</td>\n",
              "      <td>0</td>\n",
              "      <td>0</td>\n",
              "      <td>1</td>\n",
              "      <td>Chawkbazar</td>\n",
              "      <td>Developed</td>\n",
              "      <td>Building</td>\n",
              "      <td>Dhaka</td>\n",
              "      <td>0</td>\n",
              "    </tr>\n",
              "    <tr>\n",
              "      <th>2</th>\n",
              "      <td>Female</td>\n",
              "      <td>29</td>\n",
              "      <td>0</td>\n",
              "      <td>0</td>\n",
              "      <td>0</td>\n",
              "      <td>Paltan</td>\n",
              "      <td>Undeveloped</td>\n",
              "      <td>Other</td>\n",
              "      <td>Dhaka</td>\n",
              "      <td>0</td>\n",
              "    </tr>\n",
              "    <tr>\n",
              "      <th>3</th>\n",
              "      <td>Female</td>\n",
              "      <td>63</td>\n",
              "      <td>1</td>\n",
              "      <td>1</td>\n",
              "      <td>0</td>\n",
              "      <td>Motijheel</td>\n",
              "      <td>Developed</td>\n",
              "      <td>Other</td>\n",
              "      <td>Dhaka</td>\n",
              "      <td>1</td>\n",
              "    </tr>\n",
              "    <tr>\n",
              "      <th>4</th>\n",
              "      <td>Male</td>\n",
              "      <td>22</td>\n",
              "      <td>0</td>\n",
              "      <td>0</td>\n",
              "      <td>0</td>\n",
              "      <td>Gendaria</td>\n",
              "      <td>Undeveloped</td>\n",
              "      <td>Building</td>\n",
              "      <td>Dhaka</td>\n",
              "      <td>0</td>\n",
              "    </tr>\n",
              "    <tr>\n",
              "      <th>...</th>\n",
              "      <td>...</td>\n",
              "      <td>...</td>\n",
              "      <td>...</td>\n",
              "      <td>...</td>\n",
              "      <td>...</td>\n",
              "      <td>...</td>\n",
              "      <td>...</td>\n",
              "      <td>...</td>\n",
              "      <td>...</td>\n",
              "      <td>...</td>\n",
              "    </tr>\n",
              "    <tr>\n",
              "      <th>995</th>\n",
              "      <td>Female</td>\n",
              "      <td>16</td>\n",
              "      <td>1</td>\n",
              "      <td>1</td>\n",
              "      <td>0</td>\n",
              "      <td>New Market</td>\n",
              "      <td>Developed</td>\n",
              "      <td>Building</td>\n",
              "      <td>Dhaka</td>\n",
              "      <td>1</td>\n",
              "    </tr>\n",
              "    <tr>\n",
              "      <th>996</th>\n",
              "      <td>Male</td>\n",
              "      <td>41</td>\n",
              "      <td>1</td>\n",
              "      <td>1</td>\n",
              "      <td>0</td>\n",
              "      <td>Paltan</td>\n",
              "      <td>Undeveloped</td>\n",
              "      <td>Other</td>\n",
              "      <td>Dhaka</td>\n",
              "      <td>1</td>\n",
              "    </tr>\n",
              "    <tr>\n",
              "      <th>997</th>\n",
              "      <td>Male</td>\n",
              "      <td>45</td>\n",
              "      <td>0</td>\n",
              "      <td>0</td>\n",
              "      <td>1</td>\n",
              "      <td>Motijheel</td>\n",
              "      <td>Developed</td>\n",
              "      <td>Building</td>\n",
              "      <td>Dhaka</td>\n",
              "      <td>0</td>\n",
              "    </tr>\n",
              "    <tr>\n",
              "      <th>998</th>\n",
              "      <td>Female</td>\n",
              "      <td>19</td>\n",
              "      <td>1</td>\n",
              "      <td>1</td>\n",
              "      <td>1</td>\n",
              "      <td>Paltan</td>\n",
              "      <td>Undeveloped</td>\n",
              "      <td>Building</td>\n",
              "      <td>Dhaka</td>\n",
              "      <td>1</td>\n",
              "    </tr>\n",
              "    <tr>\n",
              "      <th>999</th>\n",
              "      <td>Female</td>\n",
              "      <td>28</td>\n",
              "      <td>0</td>\n",
              "      <td>0</td>\n",
              "      <td>1</td>\n",
              "      <td>Adabor</td>\n",
              "      <td>Developed</td>\n",
              "      <td>Building</td>\n",
              "      <td>Dhaka</td>\n",
              "      <td>0</td>\n",
              "    </tr>\n",
              "  </tbody>\n",
              "</table>\n",
              "<p>1000 rows × 10 columns</p>\n",
              "</div>\n",
              "    <div class=\"colab-df-buttons\">\n",
              "\n",
              "  <div class=\"colab-df-container\">\n",
              "    <button class=\"colab-df-convert\" onclick=\"convertToInteractive('df-aa52defd-e230-46f5-8298-329160931946')\"\n",
              "            title=\"Convert this dataframe to an interactive table.\"\n",
              "            style=\"display:none;\">\n",
              "\n",
              "  <svg xmlns=\"http://www.w3.org/2000/svg\" height=\"24px\" viewBox=\"0 -960 960 960\">\n",
              "    <path d=\"M120-120v-720h720v720H120Zm60-500h600v-160H180v160Zm220 220h160v-160H400v160Zm0 220h160v-160H400v160ZM180-400h160v-160H180v160Zm440 0h160v-160H620v160ZM180-180h160v-160H180v160Zm440 0h160v-160H620v160Z\"/>\n",
              "  </svg>\n",
              "    </button>\n",
              "\n",
              "  <style>\n",
              "    .colab-df-container {\n",
              "      display:flex;\n",
              "      gap: 12px;\n",
              "    }\n",
              "\n",
              "    .colab-df-convert {\n",
              "      background-color: #E8F0FE;\n",
              "      border: none;\n",
              "      border-radius: 50%;\n",
              "      cursor: pointer;\n",
              "      display: none;\n",
              "      fill: #1967D2;\n",
              "      height: 32px;\n",
              "      padding: 0 0 0 0;\n",
              "      width: 32px;\n",
              "    }\n",
              "\n",
              "    .colab-df-convert:hover {\n",
              "      background-color: #E2EBFA;\n",
              "      box-shadow: 0px 1px 2px rgba(60, 64, 67, 0.3), 0px 1px 3px 1px rgba(60, 64, 67, 0.15);\n",
              "      fill: #174EA6;\n",
              "    }\n",
              "\n",
              "    .colab-df-buttons div {\n",
              "      margin-bottom: 4px;\n",
              "    }\n",
              "\n",
              "    [theme=dark] .colab-df-convert {\n",
              "      background-color: #3B4455;\n",
              "      fill: #D2E3FC;\n",
              "    }\n",
              "\n",
              "    [theme=dark] .colab-df-convert:hover {\n",
              "      background-color: #434B5C;\n",
              "      box-shadow: 0px 1px 3px 1px rgba(0, 0, 0, 0.15);\n",
              "      filter: drop-shadow(0px 1px 2px rgba(0, 0, 0, 0.3));\n",
              "      fill: #FFFFFF;\n",
              "    }\n",
              "  </style>\n",
              "\n",
              "    <script>\n",
              "      const buttonEl =\n",
              "        document.querySelector('#df-aa52defd-e230-46f5-8298-329160931946 button.colab-df-convert');\n",
              "      buttonEl.style.display =\n",
              "        google.colab.kernel.accessAllowed ? 'block' : 'none';\n",
              "\n",
              "      async function convertToInteractive(key) {\n",
              "        const element = document.querySelector('#df-aa52defd-e230-46f5-8298-329160931946');\n",
              "        const dataTable =\n",
              "          await google.colab.kernel.invokeFunction('convertToInteractive',\n",
              "                                                    [key], {});\n",
              "        if (!dataTable) return;\n",
              "\n",
              "        const docLinkHtml = 'Like what you see? Visit the ' +\n",
              "          '<a target=\"_blank\" href=https://colab.research.google.com/notebooks/data_table.ipynb>data table notebook</a>'\n",
              "          + ' to learn more about interactive tables.';\n",
              "        element.innerHTML = '';\n",
              "        dataTable['output_type'] = 'display_data';\n",
              "        await google.colab.output.renderOutput(dataTable, element);\n",
              "        const docLink = document.createElement('div');\n",
              "        docLink.innerHTML = docLinkHtml;\n",
              "        element.appendChild(docLink);\n",
              "      }\n",
              "    </script>\n",
              "  </div>\n",
              "\n",
              "\n",
              "<div id=\"df-cb1718b5-5a4f-404d-ae4e-1999f4e1bbde\">\n",
              "  <button class=\"colab-df-quickchart\" onclick=\"quickchart('df-cb1718b5-5a4f-404d-ae4e-1999f4e1bbde')\"\n",
              "            title=\"Suggest charts\"\n",
              "            style=\"display:none;\">\n",
              "\n",
              "<svg xmlns=\"http://www.w3.org/2000/svg\" height=\"24px\"viewBox=\"0 0 24 24\"\n",
              "     width=\"24px\">\n",
              "    <g>\n",
              "        <path d=\"M19 3H5c-1.1 0-2 .9-2 2v14c0 1.1.9 2 2 2h14c1.1 0 2-.9 2-2V5c0-1.1-.9-2-2-2zM9 17H7v-7h2v7zm4 0h-2V7h2v10zm4 0h-2v-4h2v4z\"/>\n",
              "    </g>\n",
              "</svg>\n",
              "  </button>\n",
              "\n",
              "<style>\n",
              "  .colab-df-quickchart {\n",
              "      --bg-color: #E8F0FE;\n",
              "      --fill-color: #1967D2;\n",
              "      --hover-bg-color: #E2EBFA;\n",
              "      --hover-fill-color: #174EA6;\n",
              "      --disabled-fill-color: #AAA;\n",
              "      --disabled-bg-color: #DDD;\n",
              "  }\n",
              "\n",
              "  [theme=dark] .colab-df-quickchart {\n",
              "      --bg-color: #3B4455;\n",
              "      --fill-color: #D2E3FC;\n",
              "      --hover-bg-color: #434B5C;\n",
              "      --hover-fill-color: #FFFFFF;\n",
              "      --disabled-bg-color: #3B4455;\n",
              "      --disabled-fill-color: #666;\n",
              "  }\n",
              "\n",
              "  .colab-df-quickchart {\n",
              "    background-color: var(--bg-color);\n",
              "    border: none;\n",
              "    border-radius: 50%;\n",
              "    cursor: pointer;\n",
              "    display: none;\n",
              "    fill: var(--fill-color);\n",
              "    height: 32px;\n",
              "    padding: 0;\n",
              "    width: 32px;\n",
              "  }\n",
              "\n",
              "  .colab-df-quickchart:hover {\n",
              "    background-color: var(--hover-bg-color);\n",
              "    box-shadow: 0 1px 2px rgba(60, 64, 67, 0.3), 0 1px 3px 1px rgba(60, 64, 67, 0.15);\n",
              "    fill: var(--button-hover-fill-color);\n",
              "  }\n",
              "\n",
              "  .colab-df-quickchart-complete:disabled,\n",
              "  .colab-df-quickchart-complete:disabled:hover {\n",
              "    background-color: var(--disabled-bg-color);\n",
              "    fill: var(--disabled-fill-color);\n",
              "    box-shadow: none;\n",
              "  }\n",
              "\n",
              "  .colab-df-spinner {\n",
              "    border: 2px solid var(--fill-color);\n",
              "    border-color: transparent;\n",
              "    border-bottom-color: var(--fill-color);\n",
              "    animation:\n",
              "      spin 1s steps(1) infinite;\n",
              "  }\n",
              "\n",
              "  @keyframes spin {\n",
              "    0% {\n",
              "      border-color: transparent;\n",
              "      border-bottom-color: var(--fill-color);\n",
              "      border-left-color: var(--fill-color);\n",
              "    }\n",
              "    20% {\n",
              "      border-color: transparent;\n",
              "      border-left-color: var(--fill-color);\n",
              "      border-top-color: var(--fill-color);\n",
              "    }\n",
              "    30% {\n",
              "      border-color: transparent;\n",
              "      border-left-color: var(--fill-color);\n",
              "      border-top-color: var(--fill-color);\n",
              "      border-right-color: var(--fill-color);\n",
              "    }\n",
              "    40% {\n",
              "      border-color: transparent;\n",
              "      border-right-color: var(--fill-color);\n",
              "      border-top-color: var(--fill-color);\n",
              "    }\n",
              "    60% {\n",
              "      border-color: transparent;\n",
              "      border-right-color: var(--fill-color);\n",
              "    }\n",
              "    80% {\n",
              "      border-color: transparent;\n",
              "      border-right-color: var(--fill-color);\n",
              "      border-bottom-color: var(--fill-color);\n",
              "    }\n",
              "    90% {\n",
              "      border-color: transparent;\n",
              "      border-bottom-color: var(--fill-color);\n",
              "    }\n",
              "  }\n",
              "</style>\n",
              "\n",
              "  <script>\n",
              "    async function quickchart(key) {\n",
              "      const quickchartButtonEl =\n",
              "        document.querySelector('#' + key + ' button');\n",
              "      quickchartButtonEl.disabled = true;  // To prevent multiple clicks.\n",
              "      quickchartButtonEl.classList.add('colab-df-spinner');\n",
              "      try {\n",
              "        const charts = await google.colab.kernel.invokeFunction(\n",
              "            'suggestCharts', [key], {});\n",
              "      } catch (error) {\n",
              "        console.error('Error during call to suggestCharts:', error);\n",
              "      }\n",
              "      quickchartButtonEl.classList.remove('colab-df-spinner');\n",
              "      quickchartButtonEl.classList.add('colab-df-quickchart-complete');\n",
              "    }\n",
              "    (() => {\n",
              "      let quickchartButtonEl =\n",
              "        document.querySelector('#df-cb1718b5-5a4f-404d-ae4e-1999f4e1bbde button');\n",
              "      quickchartButtonEl.style.display =\n",
              "        google.colab.kernel.accessAllowed ? 'block' : 'none';\n",
              "    })();\n",
              "  </script>\n",
              "</div>\n",
              "\n",
              "  <div id=\"id_30d65823-3078-4b13-8615-3dfa8fe92c77\">\n",
              "    <style>\n",
              "      .colab-df-generate {\n",
              "        background-color: #E8F0FE;\n",
              "        border: none;\n",
              "        border-radius: 50%;\n",
              "        cursor: pointer;\n",
              "        display: none;\n",
              "        fill: #1967D2;\n",
              "        height: 32px;\n",
              "        padding: 0 0 0 0;\n",
              "        width: 32px;\n",
              "      }\n",
              "\n",
              "      .colab-df-generate:hover {\n",
              "        background-color: #E2EBFA;\n",
              "        box-shadow: 0px 1px 2px rgba(60, 64, 67, 0.3), 0px 1px 3px 1px rgba(60, 64, 67, 0.15);\n",
              "        fill: #174EA6;\n",
              "      }\n",
              "\n",
              "      [theme=dark] .colab-df-generate {\n",
              "        background-color: #3B4455;\n",
              "        fill: #D2E3FC;\n",
              "      }\n",
              "\n",
              "      [theme=dark] .colab-df-generate:hover {\n",
              "        background-color: #434B5C;\n",
              "        box-shadow: 0px 1px 3px 1px rgba(0, 0, 0, 0.15);\n",
              "        filter: drop-shadow(0px 1px 2px rgba(0, 0, 0, 0.3));\n",
              "        fill: #FFFFFF;\n",
              "      }\n",
              "    </style>\n",
              "    <button class=\"colab-df-generate\" onclick=\"generateWithVariable('df')\"\n",
              "            title=\"Generate code using this dataframe.\"\n",
              "            style=\"display:none;\">\n",
              "\n",
              "  <svg xmlns=\"http://www.w3.org/2000/svg\" height=\"24px\"viewBox=\"0 0 24 24\"\n",
              "       width=\"24px\">\n",
              "    <path d=\"M7,19H8.4L18.45,9,17,7.55,7,17.6ZM5,21V16.75L18.45,3.32a2,2,0,0,1,2.83,0l1.4,1.43a1.91,1.91,0,0,1,.58,1.4,1.91,1.91,0,0,1-.58,1.4L9.25,21ZM18.45,9,17,7.55Zm-12,3A5.31,5.31,0,0,0,4.9,8.1,5.31,5.31,0,0,0,1,6.5,5.31,5.31,0,0,0,4.9,4.9,5.31,5.31,0,0,0,6.5,1,5.31,5.31,0,0,0,8.1,4.9,5.31,5.31,0,0,0,12,6.5,5.46,5.46,0,0,0,6.5,12Z\"/>\n",
              "  </svg>\n",
              "    </button>\n",
              "    <script>\n",
              "      (() => {\n",
              "      const buttonEl =\n",
              "        document.querySelector('#id_30d65823-3078-4b13-8615-3dfa8fe92c77 button.colab-df-generate');\n",
              "      buttonEl.style.display =\n",
              "        google.colab.kernel.accessAllowed ? 'block' : 'none';\n",
              "\n",
              "      buttonEl.onclick = () => {\n",
              "        google.colab.notebook.generateWithVariable('df');\n",
              "      }\n",
              "      })();\n",
              "    </script>\n",
              "  </div>\n",
              "\n",
              "    </div>\n",
              "  </div>\n"
            ],
            "application/vnd.google.colaboratory.intrinsic+json": {
              "type": "dataframe",
              "variable_name": "df",
              "summary": "{\n  \"name\": \"df\",\n  \"rows\": 1000,\n  \"fields\": [\n    {\n      \"column\": \"Gender\",\n      \"properties\": {\n        \"dtype\": \"category\",\n        \"num_unique_values\": 2,\n        \"samples\": [\n          \"Male\",\n          \"Female\"\n        ],\n        \"semantic_type\": \"\",\n        \"description\": \"\"\n      }\n    },\n    {\n      \"column\": \"Age\",\n      \"properties\": {\n        \"dtype\": \"number\",\n        \"std\": 17,\n        \"min\": 8,\n        \"max\": 200,\n        \"num_unique_values\": 61,\n        \"samples\": [\n          45,\n          36\n        ],\n        \"semantic_type\": \"\",\n        \"description\": \"\"\n      }\n    },\n    {\n      \"column\": \"NS1\",\n      \"properties\": {\n        \"dtype\": \"number\",\n        \"std\": 0,\n        \"min\": 0,\n        \"max\": 2,\n        \"num_unique_values\": 3,\n        \"samples\": [\n          0,\n          1\n        ],\n        \"semantic_type\": \"\",\n        \"description\": \"\"\n      }\n    },\n    {\n      \"column\": \"IgG\",\n      \"properties\": {\n        \"dtype\": \"number\",\n        \"std\": 0,\n        \"min\": 0,\n        \"max\": 4,\n        \"num_unique_values\": 3,\n        \"samples\": [\n          0,\n          1\n        ],\n        \"semantic_type\": \"\",\n        \"description\": \"\"\n      }\n    },\n    {\n      \"column\": \"IgM\",\n      \"properties\": {\n        \"dtype\": \"number\",\n        \"std\": 0,\n        \"min\": 0,\n        \"max\": 1,\n        \"num_unique_values\": 2,\n        \"samples\": [\n          1,\n          0\n        ],\n        \"semantic_type\": \"\",\n        \"description\": \"\"\n      }\n    },\n    {\n      \"column\": \"Area\",\n      \"properties\": {\n        \"dtype\": \"category\",\n        \"num_unique_values\": 36,\n        \"samples\": [\n          \"Khilgaon\",\n          \"Kalabagan\"\n        ],\n        \"semantic_type\": \"\",\n        \"description\": \"\"\n      }\n    },\n    {\n      \"column\": \"AreaType\",\n      \"properties\": {\n        \"dtype\": \"category\",\n        \"num_unique_values\": 2,\n        \"samples\": [\n          \"Developed\",\n          \"Undeveloped\"\n        ],\n        \"semantic_type\": \"\",\n        \"description\": \"\"\n      }\n    },\n    {\n      \"column\": \"HouseType\",\n      \"properties\": {\n        \"dtype\": \"category\",\n        \"num_unique_values\": 3,\n        \"samples\": [\n          \"Building\",\n          \"Other\"\n        ],\n        \"semantic_type\": \"\",\n        \"description\": \"\"\n      }\n    },\n    {\n      \"column\": \"District\",\n      \"properties\": {\n        \"dtype\": \"category\",\n        \"num_unique_values\": 1,\n        \"samples\": [\n          \"Dhaka\"\n        ],\n        \"semantic_type\": \"\",\n        \"description\": \"\"\n      }\n    },\n    {\n      \"column\": \"Outcome\",\n      \"properties\": {\n        \"dtype\": \"number\",\n        \"std\": 0,\n        \"min\": 0,\n        \"max\": 1,\n        \"num_unique_values\": 2,\n        \"samples\": [\n          1\n        ],\n        \"semantic_type\": \"\",\n        \"description\": \"\"\n      }\n    }\n  ]\n}"
            }
          },
          "metadata": {},
          "execution_count": 21
        }
      ]
    },
    {
      "cell_type": "code",
      "source": [
        "df.info()"
      ],
      "metadata": {
        "colab": {
          "base_uri": "https://localhost:8080/"
        },
        "id": "cKYtqV0pg9BB",
        "outputId": "7ed185e5-9ff9-4eae-8861-0e5dbc3a2c8a"
      },
      "execution_count": 22,
      "outputs": [
        {
          "output_type": "stream",
          "name": "stdout",
          "text": [
            "<class 'pandas.core.frame.DataFrame'>\n",
            "RangeIndex: 1000 entries, 0 to 999\n",
            "Data columns (total 10 columns):\n",
            " #   Column     Non-Null Count  Dtype \n",
            "---  ------     --------------  ----- \n",
            " 0   Gender     1000 non-null   object\n",
            " 1   Age        1000 non-null   int64 \n",
            " 2   NS1        1000 non-null   int64 \n",
            " 3   IgG        1000 non-null   int64 \n",
            " 4   IgM        1000 non-null   int64 \n",
            " 5   Area       1000 non-null   object\n",
            " 6   AreaType   1000 non-null   object\n",
            " 7   HouseType  1000 non-null   object\n",
            " 8   District   1000 non-null   object\n",
            " 9   Outcome    1000 non-null   int64 \n",
            "dtypes: int64(5), object(5)\n",
            "memory usage: 78.2+ KB\n"
          ]
        }
      ]
    },
    {
      "cell_type": "markdown",
      "source": [
        "# **Exploratory Data Analysis**"
      ],
      "metadata": {
        "id": "fx72xy_yG0sG"
      }
    },
    {
      "cell_type": "markdown",
      "source": [
        "**Data Description**"
      ],
      "metadata": {
        "id": "0D5xnQ36HGuX"
      }
    },
    {
      "cell_type": "code",
      "source": [
        "df.describe()"
      ],
      "metadata": {
        "id": "-XdQZNAfhB5M",
        "colab": {
          "base_uri": "https://localhost:8080/",
          "height": 300
        },
        "outputId": "0e55a670-c479-4c32-d33e-38dc564c38d1"
      },
      "execution_count": 23,
      "outputs": [
        {
          "output_type": "execute_result",
          "data": {
            "text/plain": [
              "               Age          NS1          IgG          IgM      Outcome\n",
              "count  1000.000000  1000.000000  1000.000000  1000.000000  1000.000000\n",
              "mean     36.313000     0.521000     0.537000     0.475000     0.533000\n",
              "std      17.684393     0.501808     0.510776     0.499624     0.499159\n",
              "min       8.000000     0.000000     0.000000     0.000000     0.000000\n",
              "25%      22.000000     0.000000     0.000000     0.000000     0.000000\n",
              "50%      37.000000     1.000000     1.000000     0.000000     1.000000\n",
              "75%      50.000000     1.000000     1.000000     1.000000     1.000000\n",
              "max     200.000000     2.000000     4.000000     1.000000     1.000000"
            ],
            "text/html": [
              "\n",
              "  <div id=\"df-2cbd6ed2-b0f5-436f-bb8b-cf06a11906cd\" class=\"colab-df-container\">\n",
              "    <div>\n",
              "<style scoped>\n",
              "    .dataframe tbody tr th:only-of-type {\n",
              "        vertical-align: middle;\n",
              "    }\n",
              "\n",
              "    .dataframe tbody tr th {\n",
              "        vertical-align: top;\n",
              "    }\n",
              "\n",
              "    .dataframe thead th {\n",
              "        text-align: right;\n",
              "    }\n",
              "</style>\n",
              "<table border=\"1\" class=\"dataframe\">\n",
              "  <thead>\n",
              "    <tr style=\"text-align: right;\">\n",
              "      <th></th>\n",
              "      <th>Age</th>\n",
              "      <th>NS1</th>\n",
              "      <th>IgG</th>\n",
              "      <th>IgM</th>\n",
              "      <th>Outcome</th>\n",
              "    </tr>\n",
              "  </thead>\n",
              "  <tbody>\n",
              "    <tr>\n",
              "      <th>count</th>\n",
              "      <td>1000.000000</td>\n",
              "      <td>1000.000000</td>\n",
              "      <td>1000.000000</td>\n",
              "      <td>1000.000000</td>\n",
              "      <td>1000.000000</td>\n",
              "    </tr>\n",
              "    <tr>\n",
              "      <th>mean</th>\n",
              "      <td>36.313000</td>\n",
              "      <td>0.521000</td>\n",
              "      <td>0.537000</td>\n",
              "      <td>0.475000</td>\n",
              "      <td>0.533000</td>\n",
              "    </tr>\n",
              "    <tr>\n",
              "      <th>std</th>\n",
              "      <td>17.684393</td>\n",
              "      <td>0.501808</td>\n",
              "      <td>0.510776</td>\n",
              "      <td>0.499624</td>\n",
              "      <td>0.499159</td>\n",
              "    </tr>\n",
              "    <tr>\n",
              "      <th>min</th>\n",
              "      <td>8.000000</td>\n",
              "      <td>0.000000</td>\n",
              "      <td>0.000000</td>\n",
              "      <td>0.000000</td>\n",
              "      <td>0.000000</td>\n",
              "    </tr>\n",
              "    <tr>\n",
              "      <th>25%</th>\n",
              "      <td>22.000000</td>\n",
              "      <td>0.000000</td>\n",
              "      <td>0.000000</td>\n",
              "      <td>0.000000</td>\n",
              "      <td>0.000000</td>\n",
              "    </tr>\n",
              "    <tr>\n",
              "      <th>50%</th>\n",
              "      <td>37.000000</td>\n",
              "      <td>1.000000</td>\n",
              "      <td>1.000000</td>\n",
              "      <td>0.000000</td>\n",
              "      <td>1.000000</td>\n",
              "    </tr>\n",
              "    <tr>\n",
              "      <th>75%</th>\n",
              "      <td>50.000000</td>\n",
              "      <td>1.000000</td>\n",
              "      <td>1.000000</td>\n",
              "      <td>1.000000</td>\n",
              "      <td>1.000000</td>\n",
              "    </tr>\n",
              "    <tr>\n",
              "      <th>max</th>\n",
              "      <td>200.000000</td>\n",
              "      <td>2.000000</td>\n",
              "      <td>4.000000</td>\n",
              "      <td>1.000000</td>\n",
              "      <td>1.000000</td>\n",
              "    </tr>\n",
              "  </tbody>\n",
              "</table>\n",
              "</div>\n",
              "    <div class=\"colab-df-buttons\">\n",
              "\n",
              "  <div class=\"colab-df-container\">\n",
              "    <button class=\"colab-df-convert\" onclick=\"convertToInteractive('df-2cbd6ed2-b0f5-436f-bb8b-cf06a11906cd')\"\n",
              "            title=\"Convert this dataframe to an interactive table.\"\n",
              "            style=\"display:none;\">\n",
              "\n",
              "  <svg xmlns=\"http://www.w3.org/2000/svg\" height=\"24px\" viewBox=\"0 -960 960 960\">\n",
              "    <path d=\"M120-120v-720h720v720H120Zm60-500h600v-160H180v160Zm220 220h160v-160H400v160Zm0 220h160v-160H400v160ZM180-400h160v-160H180v160Zm440 0h160v-160H620v160ZM180-180h160v-160H180v160Zm440 0h160v-160H620v160Z\"/>\n",
              "  </svg>\n",
              "    </button>\n",
              "\n",
              "  <style>\n",
              "    .colab-df-container {\n",
              "      display:flex;\n",
              "      gap: 12px;\n",
              "    }\n",
              "\n",
              "    .colab-df-convert {\n",
              "      background-color: #E8F0FE;\n",
              "      border: none;\n",
              "      border-radius: 50%;\n",
              "      cursor: pointer;\n",
              "      display: none;\n",
              "      fill: #1967D2;\n",
              "      height: 32px;\n",
              "      padding: 0 0 0 0;\n",
              "      width: 32px;\n",
              "    }\n",
              "\n",
              "    .colab-df-convert:hover {\n",
              "      background-color: #E2EBFA;\n",
              "      box-shadow: 0px 1px 2px rgba(60, 64, 67, 0.3), 0px 1px 3px 1px rgba(60, 64, 67, 0.15);\n",
              "      fill: #174EA6;\n",
              "    }\n",
              "\n",
              "    .colab-df-buttons div {\n",
              "      margin-bottom: 4px;\n",
              "    }\n",
              "\n",
              "    [theme=dark] .colab-df-convert {\n",
              "      background-color: #3B4455;\n",
              "      fill: #D2E3FC;\n",
              "    }\n",
              "\n",
              "    [theme=dark] .colab-df-convert:hover {\n",
              "      background-color: #434B5C;\n",
              "      box-shadow: 0px 1px 3px 1px rgba(0, 0, 0, 0.15);\n",
              "      filter: drop-shadow(0px 1px 2px rgba(0, 0, 0, 0.3));\n",
              "      fill: #FFFFFF;\n",
              "    }\n",
              "  </style>\n",
              "\n",
              "    <script>\n",
              "      const buttonEl =\n",
              "        document.querySelector('#df-2cbd6ed2-b0f5-436f-bb8b-cf06a11906cd button.colab-df-convert');\n",
              "      buttonEl.style.display =\n",
              "        google.colab.kernel.accessAllowed ? 'block' : 'none';\n",
              "\n",
              "      async function convertToInteractive(key) {\n",
              "        const element = document.querySelector('#df-2cbd6ed2-b0f5-436f-bb8b-cf06a11906cd');\n",
              "        const dataTable =\n",
              "          await google.colab.kernel.invokeFunction('convertToInteractive',\n",
              "                                                    [key], {});\n",
              "        if (!dataTable) return;\n",
              "\n",
              "        const docLinkHtml = 'Like what you see? Visit the ' +\n",
              "          '<a target=\"_blank\" href=https://colab.research.google.com/notebooks/data_table.ipynb>data table notebook</a>'\n",
              "          + ' to learn more about interactive tables.';\n",
              "        element.innerHTML = '';\n",
              "        dataTable['output_type'] = 'display_data';\n",
              "        await google.colab.output.renderOutput(dataTable, element);\n",
              "        const docLink = document.createElement('div');\n",
              "        docLink.innerHTML = docLinkHtml;\n",
              "        element.appendChild(docLink);\n",
              "      }\n",
              "    </script>\n",
              "  </div>\n",
              "\n",
              "\n",
              "<div id=\"df-2a61bf56-03d5-476d-b8c3-fbb30c2cf4bc\">\n",
              "  <button class=\"colab-df-quickchart\" onclick=\"quickchart('df-2a61bf56-03d5-476d-b8c3-fbb30c2cf4bc')\"\n",
              "            title=\"Suggest charts\"\n",
              "            style=\"display:none;\">\n",
              "\n",
              "<svg xmlns=\"http://www.w3.org/2000/svg\" height=\"24px\"viewBox=\"0 0 24 24\"\n",
              "     width=\"24px\">\n",
              "    <g>\n",
              "        <path d=\"M19 3H5c-1.1 0-2 .9-2 2v14c0 1.1.9 2 2 2h14c1.1 0 2-.9 2-2V5c0-1.1-.9-2-2-2zM9 17H7v-7h2v7zm4 0h-2V7h2v10zm4 0h-2v-4h2v4z\"/>\n",
              "    </g>\n",
              "</svg>\n",
              "  </button>\n",
              "\n",
              "<style>\n",
              "  .colab-df-quickchart {\n",
              "      --bg-color: #E8F0FE;\n",
              "      --fill-color: #1967D2;\n",
              "      --hover-bg-color: #E2EBFA;\n",
              "      --hover-fill-color: #174EA6;\n",
              "      --disabled-fill-color: #AAA;\n",
              "      --disabled-bg-color: #DDD;\n",
              "  }\n",
              "\n",
              "  [theme=dark] .colab-df-quickchart {\n",
              "      --bg-color: #3B4455;\n",
              "      --fill-color: #D2E3FC;\n",
              "      --hover-bg-color: #434B5C;\n",
              "      --hover-fill-color: #FFFFFF;\n",
              "      --disabled-bg-color: #3B4455;\n",
              "      --disabled-fill-color: #666;\n",
              "  }\n",
              "\n",
              "  .colab-df-quickchart {\n",
              "    background-color: var(--bg-color);\n",
              "    border: none;\n",
              "    border-radius: 50%;\n",
              "    cursor: pointer;\n",
              "    display: none;\n",
              "    fill: var(--fill-color);\n",
              "    height: 32px;\n",
              "    padding: 0;\n",
              "    width: 32px;\n",
              "  }\n",
              "\n",
              "  .colab-df-quickchart:hover {\n",
              "    background-color: var(--hover-bg-color);\n",
              "    box-shadow: 0 1px 2px rgba(60, 64, 67, 0.3), 0 1px 3px 1px rgba(60, 64, 67, 0.15);\n",
              "    fill: var(--button-hover-fill-color);\n",
              "  }\n",
              "\n",
              "  .colab-df-quickchart-complete:disabled,\n",
              "  .colab-df-quickchart-complete:disabled:hover {\n",
              "    background-color: var(--disabled-bg-color);\n",
              "    fill: var(--disabled-fill-color);\n",
              "    box-shadow: none;\n",
              "  }\n",
              "\n",
              "  .colab-df-spinner {\n",
              "    border: 2px solid var(--fill-color);\n",
              "    border-color: transparent;\n",
              "    border-bottom-color: var(--fill-color);\n",
              "    animation:\n",
              "      spin 1s steps(1) infinite;\n",
              "  }\n",
              "\n",
              "  @keyframes spin {\n",
              "    0% {\n",
              "      border-color: transparent;\n",
              "      border-bottom-color: var(--fill-color);\n",
              "      border-left-color: var(--fill-color);\n",
              "    }\n",
              "    20% {\n",
              "      border-color: transparent;\n",
              "      border-left-color: var(--fill-color);\n",
              "      border-top-color: var(--fill-color);\n",
              "    }\n",
              "    30% {\n",
              "      border-color: transparent;\n",
              "      border-left-color: var(--fill-color);\n",
              "      border-top-color: var(--fill-color);\n",
              "      border-right-color: var(--fill-color);\n",
              "    }\n",
              "    40% {\n",
              "      border-color: transparent;\n",
              "      border-right-color: var(--fill-color);\n",
              "      border-top-color: var(--fill-color);\n",
              "    }\n",
              "    60% {\n",
              "      border-color: transparent;\n",
              "      border-right-color: var(--fill-color);\n",
              "    }\n",
              "    80% {\n",
              "      border-color: transparent;\n",
              "      border-right-color: var(--fill-color);\n",
              "      border-bottom-color: var(--fill-color);\n",
              "    }\n",
              "    90% {\n",
              "      border-color: transparent;\n",
              "      border-bottom-color: var(--fill-color);\n",
              "    }\n",
              "  }\n",
              "</style>\n",
              "\n",
              "  <script>\n",
              "    async function quickchart(key) {\n",
              "      const quickchartButtonEl =\n",
              "        document.querySelector('#' + key + ' button');\n",
              "      quickchartButtonEl.disabled = true;  // To prevent multiple clicks.\n",
              "      quickchartButtonEl.classList.add('colab-df-spinner');\n",
              "      try {\n",
              "        const charts = await google.colab.kernel.invokeFunction(\n",
              "            'suggestCharts', [key], {});\n",
              "      } catch (error) {\n",
              "        console.error('Error during call to suggestCharts:', error);\n",
              "      }\n",
              "      quickchartButtonEl.classList.remove('colab-df-spinner');\n",
              "      quickchartButtonEl.classList.add('colab-df-quickchart-complete');\n",
              "    }\n",
              "    (() => {\n",
              "      let quickchartButtonEl =\n",
              "        document.querySelector('#df-2a61bf56-03d5-476d-b8c3-fbb30c2cf4bc button');\n",
              "      quickchartButtonEl.style.display =\n",
              "        google.colab.kernel.accessAllowed ? 'block' : 'none';\n",
              "    })();\n",
              "  </script>\n",
              "</div>\n",
              "\n",
              "    </div>\n",
              "  </div>\n"
            ],
            "application/vnd.google.colaboratory.intrinsic+json": {
              "type": "dataframe",
              "summary": "{\n  \"name\": \"df\",\n  \"rows\": 8,\n  \"fields\": [\n    {\n      \"column\": \"Age\",\n      \"properties\": {\n        \"dtype\": \"number\",\n        \"std\": 340.3976960137496,\n        \"min\": 8.0,\n        \"max\": 1000.0,\n        \"num_unique_values\": 8,\n        \"samples\": [\n          36.313,\n          37.0,\n          1000.0\n        ],\n        \"semantic_type\": \"\",\n        \"description\": \"\"\n      }\n    },\n    {\n      \"column\": \"NS1\",\n      \"properties\": {\n        \"dtype\": \"number\",\n        \"std\": 353.3002906859544,\n        \"min\": 0.0,\n        \"max\": 1000.0,\n        \"num_unique_values\": 6,\n        \"samples\": [\n          1000.0,\n          0.521,\n          2.0\n        ],\n        \"semantic_type\": \"\",\n        \"description\": \"\"\n      }\n    },\n    {\n      \"column\": \"IgG\",\n      \"properties\": {\n        \"dtype\": \"number\",\n        \"std\": 353.1997404189969,\n        \"min\": 0.0,\n        \"max\": 1000.0,\n        \"num_unique_values\": 6,\n        \"samples\": [\n          1000.0,\n          0.537,\n          4.0\n        ],\n        \"semantic_type\": \"\",\n        \"description\": \"\"\n      }\n    },\n    {\n      \"column\": \"IgM\",\n      \"properties\": {\n        \"dtype\": \"number\",\n        \"std\": 353.4033941707548,\n        \"min\": 0.0,\n        \"max\": 1000.0,\n        \"num_unique_values\": 5,\n        \"samples\": [\n          0.475,\n          1.0,\n          0.49962448361206696\n        ],\n        \"semantic_type\": \"\",\n        \"description\": \"\"\n      }\n    },\n    {\n      \"column\": \"Outcome\",\n      \"properties\": {\n        \"dtype\": \"number\",\n        \"std\": 353.3499805124451,\n        \"min\": 0.0,\n        \"max\": 1000.0,\n        \"num_unique_values\": 5,\n        \"samples\": [\n          0.533,\n          1.0,\n          0.49915945364198017\n        ],\n        \"semantic_type\": \"\",\n        \"description\": \"\"\n      }\n    }\n  ]\n}"
            }
          },
          "metadata": {},
          "execution_count": 23
        }
      ]
    },
    {
      "cell_type": "markdown",
      "source": [
        "# Preprocessing Data"
      ],
      "metadata": {
        "id": "kTkQrhiHKS25"
      }
    },
    {
      "cell_type": "markdown",
      "source": [
        "Konsep yang lebih luas yang mencakup semua tahap\n",
        "persiapan data sebelum atau saat menggunakannya untuk analisis atau\n",
        "pemodelan, termasuk data cleaning\n",
        "Tujuannya yaitu Mempersiapkan data agar sesuai dengan persyaratan\n",
        "algoritma atau metode yang akan digunakan, memungkinkan analisis\n",
        "atau pemodelan yang lebih baik."
      ],
      "metadata": {
        "id": "CwMEb-zMktJv"
      }
    },
    {
      "cell_type": "markdown",
      "source": [
        "**Missing Value Handling**"
      ],
      "metadata": {
        "id": "Io1uyOx6Ka7M"
      }
    },
    {
      "cell_type": "markdown",
      "source": [
        "Missing Value adalah hilangnya beberapa data yang telah diperoleh.\n",
        "Dalam dunia data science, missing value erat kaitannya dalam proses\n",
        "perselisihan data (data wrangling) sebelum nantinya akan dilakukan\n",
        "analisis dan prediksi data.\n",
        "\n",
        "Data wrangling merupakan kegiatan penyeragaman data atau\n",
        "pembersihan data (cleaning data) dari data kotor (mentah) menjadi\n",
        "data yang nantinya siap digunakan untuk analisis."
      ],
      "metadata": {
        "id": "n00KJON7eTsT"
      }
    },
    {
      "cell_type": "code",
      "source": [
        "missing_data = df.isnull().sum()\n",
        "print(missing_data)"
      ],
      "metadata": {
        "colab": {
          "base_uri": "https://localhost:8080/"
        },
        "id": "qfzwgnT1HYnM",
        "outputId": "03bd7768-4730-45df-e8a2-1ffeee9732f1"
      },
      "execution_count": 24,
      "outputs": [
        {
          "output_type": "stream",
          "name": "stdout",
          "text": [
            "Gender       0\n",
            "Age          0\n",
            "NS1          0\n",
            "IgG          0\n",
            "IgM          0\n",
            "Area         0\n",
            "AreaType     0\n",
            "HouseType    0\n",
            "District     0\n",
            "Outcome      0\n",
            "dtype: int64\n"
          ]
        }
      ]
    },
    {
      "cell_type": "markdown",
      "source": [
        " tidak ada baris dalam kolom tersebut yang memiliki nilai kosong atau hilang.Jadi, dapat disimpulkan bahwa dataset  lengkap tanpa missing values."
      ],
      "metadata": {
        "id": "dAOIgUQIFPsr"
      }
    },
    {
      "cell_type": "markdown",
      "source": [
        "\n",
        "**Melakukan Label Encoder**"
      ],
      "metadata": {
        "id": "nc9__1sqK9Vh"
      }
    },
    {
      "cell_type": "markdown",
      "source": [
        "DATA ENCODING adalah Mengubah variabel kategori menjadi bentuk yang dapat digunakan oleh algoritma pembelajaran mesin. Ini diperlukan karena banyak algoritma ML membutuhkan input dalam bentuk numerik, sementara variabel\n",
        "kategori biasanya bersifat non-numerik.\n",
        "Tujuannya adalah untuk mewakili informasi dari variabel kategori\n",
        "dalam bentuk yang dapat diproses oleh model, sambil meminimalkan\n",
        "risiko membuat asumsi yang salah tentang hubungan ordinal antara\n",
        "kategori-kategori tersebut.\n",
        "\n",
        "One-Hot Encoding\n",
        "\n",
        "Digunakan untuk mengubah variabel kategorikal menjadi representasi numerik biner yang terdiri dari vektor dengan nilai 0 dan 1.\n",
        "\n",
        "Label Encoding\n",
        "\n",
        "Digunakan untuk mengubah variabel kategorikal menjadi representasi numerik berdasarkan penomoran kategori secara berurutan, di mana setiap kategori diberi nilai numerik yang unik.\n",
        "\n",
        "Ordinal Encoding\n",
        "\n",
        "Digunakan untuk mengubah variabel kategorikal menjadi representasi numerik berdasarka urutan atau peringkat, di manc setiap kategori diberi nilai numer sesuai dengan peringkat relatin mereka\n"
      ],
      "metadata": {
        "id": "LyKZ5E0tS_HE"
      }
    },
    {
      "cell_type": "code",
      "source": [
        "from sklearn.preprocessing import LabelEncoder\n",
        "encoder = LabelEncoder()\n",
        "df['Gender'] = encoder.fit_transform(df['Gender'])\n",
        "df"
      ],
      "metadata": {
        "id": "alSOLCgOQ8aO",
        "colab": {
          "base_uri": "https://localhost:8080/",
          "height": 423
        },
        "outputId": "72bdf69c-f673-4a21-cfba-8389a694a336"
      },
      "execution_count": 25,
      "outputs": [
        {
          "output_type": "execute_result",
          "data": {
            "text/plain": [
              "     Gender  Age  NS1  IgG  IgM        Area     AreaType HouseType District  \\\n",
              "0         0   45    0    0    0      Mirpur  Undeveloped  Building    Dhaka   \n",
              "1         1   17    0    0    1  Chawkbazar    Developed  Building    Dhaka   \n",
              "2         0   29    0    0    0      Paltan  Undeveloped     Other    Dhaka   \n",
              "3         0   63    1    1    0   Motijheel    Developed     Other    Dhaka   \n",
              "4         1   22    0    0    0    Gendaria  Undeveloped  Building    Dhaka   \n",
              "..      ...  ...  ...  ...  ...         ...          ...       ...      ...   \n",
              "995       0   16    1    1    0  New Market    Developed  Building    Dhaka   \n",
              "996       1   41    1    1    0      Paltan  Undeveloped     Other    Dhaka   \n",
              "997       1   45    0    0    1   Motijheel    Developed  Building    Dhaka   \n",
              "998       0   19    1    1    1      Paltan  Undeveloped  Building    Dhaka   \n",
              "999       0   28    0    0    1      Adabor    Developed  Building    Dhaka   \n",
              "\n",
              "     Outcome  \n",
              "0          0  \n",
              "1          0  \n",
              "2          0  \n",
              "3          1  \n",
              "4          0  \n",
              "..       ...  \n",
              "995        1  \n",
              "996        1  \n",
              "997        0  \n",
              "998        1  \n",
              "999        0  \n",
              "\n",
              "[1000 rows x 10 columns]"
            ],
            "text/html": [
              "\n",
              "  <div id=\"df-885978d3-73f6-4d9e-acfa-fb898078cf21\" class=\"colab-df-container\">\n",
              "    <div>\n",
              "<style scoped>\n",
              "    .dataframe tbody tr th:only-of-type {\n",
              "        vertical-align: middle;\n",
              "    }\n",
              "\n",
              "    .dataframe tbody tr th {\n",
              "        vertical-align: top;\n",
              "    }\n",
              "\n",
              "    .dataframe thead th {\n",
              "        text-align: right;\n",
              "    }\n",
              "</style>\n",
              "<table border=\"1\" class=\"dataframe\">\n",
              "  <thead>\n",
              "    <tr style=\"text-align: right;\">\n",
              "      <th></th>\n",
              "      <th>Gender</th>\n",
              "      <th>Age</th>\n",
              "      <th>NS1</th>\n",
              "      <th>IgG</th>\n",
              "      <th>IgM</th>\n",
              "      <th>Area</th>\n",
              "      <th>AreaType</th>\n",
              "      <th>HouseType</th>\n",
              "      <th>District</th>\n",
              "      <th>Outcome</th>\n",
              "    </tr>\n",
              "  </thead>\n",
              "  <tbody>\n",
              "    <tr>\n",
              "      <th>0</th>\n",
              "      <td>0</td>\n",
              "      <td>45</td>\n",
              "      <td>0</td>\n",
              "      <td>0</td>\n",
              "      <td>0</td>\n",
              "      <td>Mirpur</td>\n",
              "      <td>Undeveloped</td>\n",
              "      <td>Building</td>\n",
              "      <td>Dhaka</td>\n",
              "      <td>0</td>\n",
              "    </tr>\n",
              "    <tr>\n",
              "      <th>1</th>\n",
              "      <td>1</td>\n",
              "      <td>17</td>\n",
              "      <td>0</td>\n",
              "      <td>0</td>\n",
              "      <td>1</td>\n",
              "      <td>Chawkbazar</td>\n",
              "      <td>Developed</td>\n",
              "      <td>Building</td>\n",
              "      <td>Dhaka</td>\n",
              "      <td>0</td>\n",
              "    </tr>\n",
              "    <tr>\n",
              "      <th>2</th>\n",
              "      <td>0</td>\n",
              "      <td>29</td>\n",
              "      <td>0</td>\n",
              "      <td>0</td>\n",
              "      <td>0</td>\n",
              "      <td>Paltan</td>\n",
              "      <td>Undeveloped</td>\n",
              "      <td>Other</td>\n",
              "      <td>Dhaka</td>\n",
              "      <td>0</td>\n",
              "    </tr>\n",
              "    <tr>\n",
              "      <th>3</th>\n",
              "      <td>0</td>\n",
              "      <td>63</td>\n",
              "      <td>1</td>\n",
              "      <td>1</td>\n",
              "      <td>0</td>\n",
              "      <td>Motijheel</td>\n",
              "      <td>Developed</td>\n",
              "      <td>Other</td>\n",
              "      <td>Dhaka</td>\n",
              "      <td>1</td>\n",
              "    </tr>\n",
              "    <tr>\n",
              "      <th>4</th>\n",
              "      <td>1</td>\n",
              "      <td>22</td>\n",
              "      <td>0</td>\n",
              "      <td>0</td>\n",
              "      <td>0</td>\n",
              "      <td>Gendaria</td>\n",
              "      <td>Undeveloped</td>\n",
              "      <td>Building</td>\n",
              "      <td>Dhaka</td>\n",
              "      <td>0</td>\n",
              "    </tr>\n",
              "    <tr>\n",
              "      <th>...</th>\n",
              "      <td>...</td>\n",
              "      <td>...</td>\n",
              "      <td>...</td>\n",
              "      <td>...</td>\n",
              "      <td>...</td>\n",
              "      <td>...</td>\n",
              "      <td>...</td>\n",
              "      <td>...</td>\n",
              "      <td>...</td>\n",
              "      <td>...</td>\n",
              "    </tr>\n",
              "    <tr>\n",
              "      <th>995</th>\n",
              "      <td>0</td>\n",
              "      <td>16</td>\n",
              "      <td>1</td>\n",
              "      <td>1</td>\n",
              "      <td>0</td>\n",
              "      <td>New Market</td>\n",
              "      <td>Developed</td>\n",
              "      <td>Building</td>\n",
              "      <td>Dhaka</td>\n",
              "      <td>1</td>\n",
              "    </tr>\n",
              "    <tr>\n",
              "      <th>996</th>\n",
              "      <td>1</td>\n",
              "      <td>41</td>\n",
              "      <td>1</td>\n",
              "      <td>1</td>\n",
              "      <td>0</td>\n",
              "      <td>Paltan</td>\n",
              "      <td>Undeveloped</td>\n",
              "      <td>Other</td>\n",
              "      <td>Dhaka</td>\n",
              "      <td>1</td>\n",
              "    </tr>\n",
              "    <tr>\n",
              "      <th>997</th>\n",
              "      <td>1</td>\n",
              "      <td>45</td>\n",
              "      <td>0</td>\n",
              "      <td>0</td>\n",
              "      <td>1</td>\n",
              "      <td>Motijheel</td>\n",
              "      <td>Developed</td>\n",
              "      <td>Building</td>\n",
              "      <td>Dhaka</td>\n",
              "      <td>0</td>\n",
              "    </tr>\n",
              "    <tr>\n",
              "      <th>998</th>\n",
              "      <td>0</td>\n",
              "      <td>19</td>\n",
              "      <td>1</td>\n",
              "      <td>1</td>\n",
              "      <td>1</td>\n",
              "      <td>Paltan</td>\n",
              "      <td>Undeveloped</td>\n",
              "      <td>Building</td>\n",
              "      <td>Dhaka</td>\n",
              "      <td>1</td>\n",
              "    </tr>\n",
              "    <tr>\n",
              "      <th>999</th>\n",
              "      <td>0</td>\n",
              "      <td>28</td>\n",
              "      <td>0</td>\n",
              "      <td>0</td>\n",
              "      <td>1</td>\n",
              "      <td>Adabor</td>\n",
              "      <td>Developed</td>\n",
              "      <td>Building</td>\n",
              "      <td>Dhaka</td>\n",
              "      <td>0</td>\n",
              "    </tr>\n",
              "  </tbody>\n",
              "</table>\n",
              "<p>1000 rows × 10 columns</p>\n",
              "</div>\n",
              "    <div class=\"colab-df-buttons\">\n",
              "\n",
              "  <div class=\"colab-df-container\">\n",
              "    <button class=\"colab-df-convert\" onclick=\"convertToInteractive('df-885978d3-73f6-4d9e-acfa-fb898078cf21')\"\n",
              "            title=\"Convert this dataframe to an interactive table.\"\n",
              "            style=\"display:none;\">\n",
              "\n",
              "  <svg xmlns=\"http://www.w3.org/2000/svg\" height=\"24px\" viewBox=\"0 -960 960 960\">\n",
              "    <path d=\"M120-120v-720h720v720H120Zm60-500h600v-160H180v160Zm220 220h160v-160H400v160Zm0 220h160v-160H400v160ZM180-400h160v-160H180v160Zm440 0h160v-160H620v160ZM180-180h160v-160H180v160Zm440 0h160v-160H620v160Z\"/>\n",
              "  </svg>\n",
              "    </button>\n",
              "\n",
              "  <style>\n",
              "    .colab-df-container {\n",
              "      display:flex;\n",
              "      gap: 12px;\n",
              "    }\n",
              "\n",
              "    .colab-df-convert {\n",
              "      background-color: #E8F0FE;\n",
              "      border: none;\n",
              "      border-radius: 50%;\n",
              "      cursor: pointer;\n",
              "      display: none;\n",
              "      fill: #1967D2;\n",
              "      height: 32px;\n",
              "      padding: 0 0 0 0;\n",
              "      width: 32px;\n",
              "    }\n",
              "\n",
              "    .colab-df-convert:hover {\n",
              "      background-color: #E2EBFA;\n",
              "      box-shadow: 0px 1px 2px rgba(60, 64, 67, 0.3), 0px 1px 3px 1px rgba(60, 64, 67, 0.15);\n",
              "      fill: #174EA6;\n",
              "    }\n",
              "\n",
              "    .colab-df-buttons div {\n",
              "      margin-bottom: 4px;\n",
              "    }\n",
              "\n",
              "    [theme=dark] .colab-df-convert {\n",
              "      background-color: #3B4455;\n",
              "      fill: #D2E3FC;\n",
              "    }\n",
              "\n",
              "    [theme=dark] .colab-df-convert:hover {\n",
              "      background-color: #434B5C;\n",
              "      box-shadow: 0px 1px 3px 1px rgba(0, 0, 0, 0.15);\n",
              "      filter: drop-shadow(0px 1px 2px rgba(0, 0, 0, 0.3));\n",
              "      fill: #FFFFFF;\n",
              "    }\n",
              "  </style>\n",
              "\n",
              "    <script>\n",
              "      const buttonEl =\n",
              "        document.querySelector('#df-885978d3-73f6-4d9e-acfa-fb898078cf21 button.colab-df-convert');\n",
              "      buttonEl.style.display =\n",
              "        google.colab.kernel.accessAllowed ? 'block' : 'none';\n",
              "\n",
              "      async function convertToInteractive(key) {\n",
              "        const element = document.querySelector('#df-885978d3-73f6-4d9e-acfa-fb898078cf21');\n",
              "        const dataTable =\n",
              "          await google.colab.kernel.invokeFunction('convertToInteractive',\n",
              "                                                    [key], {});\n",
              "        if (!dataTable) return;\n",
              "\n",
              "        const docLinkHtml = 'Like what you see? Visit the ' +\n",
              "          '<a target=\"_blank\" href=https://colab.research.google.com/notebooks/data_table.ipynb>data table notebook</a>'\n",
              "          + ' to learn more about interactive tables.';\n",
              "        element.innerHTML = '';\n",
              "        dataTable['output_type'] = 'display_data';\n",
              "        await google.colab.output.renderOutput(dataTable, element);\n",
              "        const docLink = document.createElement('div');\n",
              "        docLink.innerHTML = docLinkHtml;\n",
              "        element.appendChild(docLink);\n",
              "      }\n",
              "    </script>\n",
              "  </div>\n",
              "\n",
              "\n",
              "<div id=\"df-2fe9e2ba-9fe7-41c1-94be-feb4ee991847\">\n",
              "  <button class=\"colab-df-quickchart\" onclick=\"quickchart('df-2fe9e2ba-9fe7-41c1-94be-feb4ee991847')\"\n",
              "            title=\"Suggest charts\"\n",
              "            style=\"display:none;\">\n",
              "\n",
              "<svg xmlns=\"http://www.w3.org/2000/svg\" height=\"24px\"viewBox=\"0 0 24 24\"\n",
              "     width=\"24px\">\n",
              "    <g>\n",
              "        <path d=\"M19 3H5c-1.1 0-2 .9-2 2v14c0 1.1.9 2 2 2h14c1.1 0 2-.9 2-2V5c0-1.1-.9-2-2-2zM9 17H7v-7h2v7zm4 0h-2V7h2v10zm4 0h-2v-4h2v4z\"/>\n",
              "    </g>\n",
              "</svg>\n",
              "  </button>\n",
              "\n",
              "<style>\n",
              "  .colab-df-quickchart {\n",
              "      --bg-color: #E8F0FE;\n",
              "      --fill-color: #1967D2;\n",
              "      --hover-bg-color: #E2EBFA;\n",
              "      --hover-fill-color: #174EA6;\n",
              "      --disabled-fill-color: #AAA;\n",
              "      --disabled-bg-color: #DDD;\n",
              "  }\n",
              "\n",
              "  [theme=dark] .colab-df-quickchart {\n",
              "      --bg-color: #3B4455;\n",
              "      --fill-color: #D2E3FC;\n",
              "      --hover-bg-color: #434B5C;\n",
              "      --hover-fill-color: #FFFFFF;\n",
              "      --disabled-bg-color: #3B4455;\n",
              "      --disabled-fill-color: #666;\n",
              "  }\n",
              "\n",
              "  .colab-df-quickchart {\n",
              "    background-color: var(--bg-color);\n",
              "    border: none;\n",
              "    border-radius: 50%;\n",
              "    cursor: pointer;\n",
              "    display: none;\n",
              "    fill: var(--fill-color);\n",
              "    height: 32px;\n",
              "    padding: 0;\n",
              "    width: 32px;\n",
              "  }\n",
              "\n",
              "  .colab-df-quickchart:hover {\n",
              "    background-color: var(--hover-bg-color);\n",
              "    box-shadow: 0 1px 2px rgba(60, 64, 67, 0.3), 0 1px 3px 1px rgba(60, 64, 67, 0.15);\n",
              "    fill: var(--button-hover-fill-color);\n",
              "  }\n",
              "\n",
              "  .colab-df-quickchart-complete:disabled,\n",
              "  .colab-df-quickchart-complete:disabled:hover {\n",
              "    background-color: var(--disabled-bg-color);\n",
              "    fill: var(--disabled-fill-color);\n",
              "    box-shadow: none;\n",
              "  }\n",
              "\n",
              "  .colab-df-spinner {\n",
              "    border: 2px solid var(--fill-color);\n",
              "    border-color: transparent;\n",
              "    border-bottom-color: var(--fill-color);\n",
              "    animation:\n",
              "      spin 1s steps(1) infinite;\n",
              "  }\n",
              "\n",
              "  @keyframes spin {\n",
              "    0% {\n",
              "      border-color: transparent;\n",
              "      border-bottom-color: var(--fill-color);\n",
              "      border-left-color: var(--fill-color);\n",
              "    }\n",
              "    20% {\n",
              "      border-color: transparent;\n",
              "      border-left-color: var(--fill-color);\n",
              "      border-top-color: var(--fill-color);\n",
              "    }\n",
              "    30% {\n",
              "      border-color: transparent;\n",
              "      border-left-color: var(--fill-color);\n",
              "      border-top-color: var(--fill-color);\n",
              "      border-right-color: var(--fill-color);\n",
              "    }\n",
              "    40% {\n",
              "      border-color: transparent;\n",
              "      border-right-color: var(--fill-color);\n",
              "      border-top-color: var(--fill-color);\n",
              "    }\n",
              "    60% {\n",
              "      border-color: transparent;\n",
              "      border-right-color: var(--fill-color);\n",
              "    }\n",
              "    80% {\n",
              "      border-color: transparent;\n",
              "      border-right-color: var(--fill-color);\n",
              "      border-bottom-color: var(--fill-color);\n",
              "    }\n",
              "    90% {\n",
              "      border-color: transparent;\n",
              "      border-bottom-color: var(--fill-color);\n",
              "    }\n",
              "  }\n",
              "</style>\n",
              "\n",
              "  <script>\n",
              "    async function quickchart(key) {\n",
              "      const quickchartButtonEl =\n",
              "        document.querySelector('#' + key + ' button');\n",
              "      quickchartButtonEl.disabled = true;  // To prevent multiple clicks.\n",
              "      quickchartButtonEl.classList.add('colab-df-spinner');\n",
              "      try {\n",
              "        const charts = await google.colab.kernel.invokeFunction(\n",
              "            'suggestCharts', [key], {});\n",
              "      } catch (error) {\n",
              "        console.error('Error during call to suggestCharts:', error);\n",
              "      }\n",
              "      quickchartButtonEl.classList.remove('colab-df-spinner');\n",
              "      quickchartButtonEl.classList.add('colab-df-quickchart-complete');\n",
              "    }\n",
              "    (() => {\n",
              "      let quickchartButtonEl =\n",
              "        document.querySelector('#df-2fe9e2ba-9fe7-41c1-94be-feb4ee991847 button');\n",
              "      quickchartButtonEl.style.display =\n",
              "        google.colab.kernel.accessAllowed ? 'block' : 'none';\n",
              "    })();\n",
              "  </script>\n",
              "</div>\n",
              "\n",
              "  <div id=\"id_83049089-1e1e-4552-a65a-1ec3a1919bec\">\n",
              "    <style>\n",
              "      .colab-df-generate {\n",
              "        background-color: #E8F0FE;\n",
              "        border: none;\n",
              "        border-radius: 50%;\n",
              "        cursor: pointer;\n",
              "        display: none;\n",
              "        fill: #1967D2;\n",
              "        height: 32px;\n",
              "        padding: 0 0 0 0;\n",
              "        width: 32px;\n",
              "      }\n",
              "\n",
              "      .colab-df-generate:hover {\n",
              "        background-color: #E2EBFA;\n",
              "        box-shadow: 0px 1px 2px rgba(60, 64, 67, 0.3), 0px 1px 3px 1px rgba(60, 64, 67, 0.15);\n",
              "        fill: #174EA6;\n",
              "      }\n",
              "\n",
              "      [theme=dark] .colab-df-generate {\n",
              "        background-color: #3B4455;\n",
              "        fill: #D2E3FC;\n",
              "      }\n",
              "\n",
              "      [theme=dark] .colab-df-generate:hover {\n",
              "        background-color: #434B5C;\n",
              "        box-shadow: 0px 1px 3px 1px rgba(0, 0, 0, 0.15);\n",
              "        filter: drop-shadow(0px 1px 2px rgba(0, 0, 0, 0.3));\n",
              "        fill: #FFFFFF;\n",
              "      }\n",
              "    </style>\n",
              "    <button class=\"colab-df-generate\" onclick=\"generateWithVariable('df')\"\n",
              "            title=\"Generate code using this dataframe.\"\n",
              "            style=\"display:none;\">\n",
              "\n",
              "  <svg xmlns=\"http://www.w3.org/2000/svg\" height=\"24px\"viewBox=\"0 0 24 24\"\n",
              "       width=\"24px\">\n",
              "    <path d=\"M7,19H8.4L18.45,9,17,7.55,7,17.6ZM5,21V16.75L18.45,3.32a2,2,0,0,1,2.83,0l1.4,1.43a1.91,1.91,0,0,1,.58,1.4,1.91,1.91,0,0,1-.58,1.4L9.25,21ZM18.45,9,17,7.55Zm-12,3A5.31,5.31,0,0,0,4.9,8.1,5.31,5.31,0,0,0,1,6.5,5.31,5.31,0,0,0,4.9,4.9,5.31,5.31,0,0,0,6.5,1,5.31,5.31,0,0,0,8.1,4.9,5.31,5.31,0,0,0,12,6.5,5.46,5.46,0,0,0,6.5,12Z\"/>\n",
              "  </svg>\n",
              "    </button>\n",
              "    <script>\n",
              "      (() => {\n",
              "      const buttonEl =\n",
              "        document.querySelector('#id_83049089-1e1e-4552-a65a-1ec3a1919bec button.colab-df-generate');\n",
              "      buttonEl.style.display =\n",
              "        google.colab.kernel.accessAllowed ? 'block' : 'none';\n",
              "\n",
              "      buttonEl.onclick = () => {\n",
              "        google.colab.notebook.generateWithVariable('df');\n",
              "      }\n",
              "      })();\n",
              "    </script>\n",
              "  </div>\n",
              "\n",
              "    </div>\n",
              "  </div>\n"
            ],
            "application/vnd.google.colaboratory.intrinsic+json": {
              "type": "dataframe",
              "variable_name": "df",
              "summary": "{\n  \"name\": \"df\",\n  \"rows\": 1000,\n  \"fields\": [\n    {\n      \"column\": \"Gender\",\n      \"properties\": {\n        \"dtype\": \"number\",\n        \"std\": 0,\n        \"min\": 0,\n        \"max\": 1,\n        \"num_unique_values\": 2,\n        \"samples\": [\n          1,\n          0\n        ],\n        \"semantic_type\": \"\",\n        \"description\": \"\"\n      }\n    },\n    {\n      \"column\": \"Age\",\n      \"properties\": {\n        \"dtype\": \"number\",\n        \"std\": 17,\n        \"min\": 8,\n        \"max\": 200,\n        \"num_unique_values\": 61,\n        \"samples\": [\n          45,\n          36\n        ],\n        \"semantic_type\": \"\",\n        \"description\": \"\"\n      }\n    },\n    {\n      \"column\": \"NS1\",\n      \"properties\": {\n        \"dtype\": \"number\",\n        \"std\": 0,\n        \"min\": 0,\n        \"max\": 2,\n        \"num_unique_values\": 3,\n        \"samples\": [\n          0,\n          1\n        ],\n        \"semantic_type\": \"\",\n        \"description\": \"\"\n      }\n    },\n    {\n      \"column\": \"IgG\",\n      \"properties\": {\n        \"dtype\": \"number\",\n        \"std\": 0,\n        \"min\": 0,\n        \"max\": 4,\n        \"num_unique_values\": 3,\n        \"samples\": [\n          0,\n          1\n        ],\n        \"semantic_type\": \"\",\n        \"description\": \"\"\n      }\n    },\n    {\n      \"column\": \"IgM\",\n      \"properties\": {\n        \"dtype\": \"number\",\n        \"std\": 0,\n        \"min\": 0,\n        \"max\": 1,\n        \"num_unique_values\": 2,\n        \"samples\": [\n          1,\n          0\n        ],\n        \"semantic_type\": \"\",\n        \"description\": \"\"\n      }\n    },\n    {\n      \"column\": \"Area\",\n      \"properties\": {\n        \"dtype\": \"category\",\n        \"num_unique_values\": 36,\n        \"samples\": [\n          \"Khilgaon\",\n          \"Kalabagan\"\n        ],\n        \"semantic_type\": \"\",\n        \"description\": \"\"\n      }\n    },\n    {\n      \"column\": \"AreaType\",\n      \"properties\": {\n        \"dtype\": \"category\",\n        \"num_unique_values\": 2,\n        \"samples\": [\n          \"Developed\",\n          \"Undeveloped\"\n        ],\n        \"semantic_type\": \"\",\n        \"description\": \"\"\n      }\n    },\n    {\n      \"column\": \"HouseType\",\n      \"properties\": {\n        \"dtype\": \"category\",\n        \"num_unique_values\": 3,\n        \"samples\": [\n          \"Building\",\n          \"Other\"\n        ],\n        \"semantic_type\": \"\",\n        \"description\": \"\"\n      }\n    },\n    {\n      \"column\": \"District\",\n      \"properties\": {\n        \"dtype\": \"category\",\n        \"num_unique_values\": 1,\n        \"samples\": [\n          \"Dhaka\"\n        ],\n        \"semantic_type\": \"\",\n        \"description\": \"\"\n      }\n    },\n    {\n      \"column\": \"Outcome\",\n      \"properties\": {\n        \"dtype\": \"number\",\n        \"std\": 0,\n        \"min\": 0,\n        \"max\": 1,\n        \"num_unique_values\": 2,\n        \"samples\": [\n          1\n        ],\n        \"semantic_type\": \"\",\n        \"description\": \"\"\n      }\n    }\n  ]\n}"
            }
          },
          "metadata": {},
          "execution_count": 25
        }
      ]
    },
    {
      "cell_type": "markdown",
      "source": [
        "**Check Outliers di Dataset**"
      ],
      "metadata": {
        "id": "pXnWv3PyTytE"
      }
    },
    {
      "cell_type": "markdown",
      "source": [
        "Outliers pada data ditandai dengan bulatan lingkaran. Jika data berada di atas kotak, menunjukkan data ekstrem tinggi, sedangkan jika berada di bawah kotak menunjukkan data ekstrem rendah. Semakin jauh dari kotak, semakin ekstrem data tersebut.\n",
        "\n",
        "Outlier adalah data atau titik pengamatan yang memiliki nilai yang jauh berbeda dari sebagian besar data lainnya dalam sebuah dataset.\n",
        "\n",
        "Outlier dapat berupa nilai yang sangat tinggi atau sangat rendah yang menyimpang signifikan dari pola umum yang ada. Dalam analisis data,\n",
        "outlier sering kali dikenali sebagai anomali atau data yang tidak biasa.oleh karena itu hrs dihapus"
      ],
      "metadata": {
        "id": "lyfVBrtbT2zc"
      }
    },
    {
      "cell_type": "code",
      "source": [
        "import matplotlib.pyplot as plt\n",
        "\n",
        "import warnings\n",
        "warnings.filterwarnings('ignore')\n",
        "\n",
        "plt.figure(figsize=(8, 6))# ukuran gambar boxplot.\n",
        "df[['Age', 'NS1', 'IgG', 'IgM']].boxplot()#membuat visualisasi boxplot dari kolom Age, NS1, IgG, dan IgM dalam DataFrame df.\n",
        "plt.title('Boxplot Data')\n",
        "plt.ylabel('Nilai')\n",
        "plt.show()#menampilkan plot\n",
        "\n",
        "# Menghitung Q1, Q3, dan IQR untuk kolom numerik saja\n",
        "numeric_cols = ['Age', 'NS1', 'IgG', 'IgM']#daftar kolom numerik yang ingin dianalisis.\n",
        "Q1 = df[numeric_cols].quantile(0.25)#menghitung kuartil pertama  dari setiap kolom numerik\n",
        "Q3 = df[numeric_cols].quantile(0.75)#menghitung kuartil ketiga  dari setiap kolom numerik\n",
        "IQR = Q3 - Q1#IQR adalah rentang antara kuartil pertama dan kuartil ketiga ,dihitung dengan mengurangkan Q1 dari Q3\n",
        "\n",
        "# Menentukan outlier\n",
        "outliers = ((df[numeric_cols] < (Q1 - 1.5 * IQR)) | (df[numeric_cols] > (Q3 + 1.5 * IQR))).sum()\n",
        "\n",
        "print('Data Outlier:')\n",
        "print(outliers)"
      ],
      "metadata": {
        "colab": {
          "base_uri": "https://localhost:8080/",
          "height": 649
        },
        "id": "OJte3meqULgd",
        "outputId": "62abe869-07ba-4daa-a5ee-b3ae85e8f165"
      },
      "execution_count": 26,
      "outputs": [
        {
          "output_type": "display_data",
          "data": {
            "text/plain": [
              "<Figure size 800x600 with 1 Axes>"
            ],
            "image/png": "[encoded data removed]"
          },
          "metadata": {}
        },
        {
          "output_type": "stream",
          "name": "stdout",
          "text": [
            "Data Outlier:\n",
            "Age    3\n",
            "NS1    0\n",
            "IgG    1\n",
            "IgM    0\n",
            "dtype: int64\n"
          ]
        }
      ]
    },
    {
      "cell_type": "markdown",
      "source": [
        "**Menghapus data Outlier**"
      ],
      "metadata": {
        "id": "FLhEyEg5b2l5"
      }
    },
    {
      "cell_type": "markdown",
      "source": [
        "mendeteksi dan menghapus outlier dari DataFrame\n",
        "\n",
        "Baris-baris yang mengandung outlier diidentifikasi dan disimpan dalam variabel outliers.dataset_no_outliers dibuat dengan menghapus baris-baris yang mengandung outlier dari dataset_cleaned.\n",
        "\n",
        "dataset_no_outliers hanya berisi data tanpa outlier dan siap digunakan untuk analisis selanjutnya"
      ],
      "metadata": {
        "id": "N0abeJuTiVSN"
      }
    },
    {
      "cell_type": "code",
      "source": [
        "dataset_cleaned= pd.read_csv('Dataset.csv')\n",
        "numeric_cols = ['Age', 'NS1', 'IgG', 'IgM']#daftar kolom yang berisi data numerik yang ingin dianalisis.\n",
        "Q1 = dataset_cleaned[numeric_cols].quantile(0.25)\n",
        "Q3 = dataset_cleaned[numeric_cols].quantile(0.75)\n",
        "IQR = Q3 - Q1\n",
        "\n",
        "#menghapus outlier\n",
        "outliers = ((dataset_cleaned[numeric_cols] < (Q1 - 1.5 * IQR)) | (dataset_cleaned[numeric_cols] > (Q3 + 1.5 * IQR))).any(axis=1)\n",
        "dataset_no_outliers = dataset_cleaned[~outliers]#ini untuk hapus\n",
        "\n",
        "print(\"Dataframe Tanpa Outlier dan Data Kosong:\")\n",
        "print(dataset_no_outliers)"
      ],
      "metadata": {
        "colab": {
          "base_uri": "https://localhost:8080/"
        },
        "id": "EnVWgUGfb68B",
        "outputId": "ed0cbcf8-2f50-4d34-c408-cf9f5aed20e2"
      },
      "execution_count": 31,
      "outputs": [
        {
          "output_type": "stream",
          "name": "stdout",
          "text": [
            "Dataframe Tanpa Outlier dan Data Kosong:\n",
            "     Gender  Age  NS1  IgG  IgM        Area     AreaType HouseType District  \\\n",
            "0    Female   45    0    0    0      Mirpur  Undeveloped  Building    Dhaka   \n",
            "1      Male   17    0    0    1  Chawkbazar    Developed  Building    Dhaka   \n",
            "2    Female   29    0    0    0      Paltan  Undeveloped     Other    Dhaka   \n",
            "3    Female   63    1    1    0   Motijheel    Developed     Other    Dhaka   \n",
            "4      Male   22    0    0    0    Gendaria  Undeveloped  Building    Dhaka   \n",
            "..      ...  ...  ...  ...  ...         ...          ...       ...      ...   \n",
            "995  Female   16    1    1    0  New Market    Developed  Building    Dhaka   \n",
            "996    Male   41    1    1    0      Paltan  Undeveloped     Other    Dhaka   \n",
            "997    Male   45    0    0    1   Motijheel    Developed  Building    Dhaka   \n",
            "998  Female   19    1    1    1      Paltan  Undeveloped  Building    Dhaka   \n",
            "999  Female   28    0    0    1      Adabor    Developed  Building    Dhaka   \n",
            "\n",
            "     Outcome  \n",
            "0          0  \n",
            "1          0  \n",
            "2          0  \n",
            "3          1  \n",
            "4          0  \n",
            "..       ...  \n",
            "995        1  \n",
            "996        1  \n",
            "997        0  \n",
            "998        1  \n",
            "999        0  \n",
            "\n",
            "[996 rows x 10 columns]\n"
          ]
        }
      ]
    },
    {
      "cell_type": "markdown",
      "source": [
        " membuat dan menampilkan boxplot yang menunjukkan distribusi data dari kolom 'Age', 'NS1', 'IgG', dan 'IgM' dalam DataFrame dataset_no_outliers"
      ],
      "metadata": {
        "id": "ZfNB9zbhjJ_-"
      }
    },
    {
      "cell_type": "code",
      "source": [
        "plt.figure(figsize=(8, 6))\n",
        "dataset_no_outliers[['Age', 'NS1', 'IgG', 'IgM']].boxplot()\n",
        "plt.title('Boxplot Data')\n",
        "plt.ylabel('Nilai')\n",
        "plt.show()"
      ],
      "metadata": {
        "colab": {
          "base_uri": "https://localhost:8080/",
          "height": 545
        },
        "id": "J84sgBSgf0Zm",
        "outputId": "bf6f72b0-bea8-48e6-ec17-e22c419ad96b"
      },
      "execution_count": 32,
      "outputs": [
        {
          "output_type": "display_data",
          "data": {
            "text/plain": [
              "<Figure size 800x600 with 1 Axes>"
            ],
            "image/png": "[encoded data removed]"
          },
          "metadata": {}
        }
      ]
    },
    {
      "cell_type": "markdown",
      "source": [
        "# Processing Data"
      ],
      "metadata": {
        "id": "4nFxpTyiiodl"
      }
    },
    {
      "cell_type": "markdown",
      "source": [
        "Data Processing adalah serangkaian tindakan atau proses yang\n",
        "dilakukan untuk mengubah data mentah menjadi bentuk yang\n",
        "lebih berguna, informatif, dan dapat dimengerti."
      ],
      "metadata": {
        "id": "D5ldCbFWkEi7"
      }
    },
    {
      "cell_type": "markdown",
      "source": [
        "Memisahkan antara atribut dan label pada dataframe."
      ],
      "metadata": {
        "id": "2U70DECBf2cs"
      }
    },
    {
      "cell_type": "code",
      "source": [
        "# memisahkan atribut pada dataset dan menyimpannya pada sebuah variabel\n",
        "X = df[df.columns[:9]]\n",
        "#df.columns[:9] adalah cara untuk memilih kolom pertama hingga kolom kesembilan dari dataframe df.\n",
        "\n",
        "# memisahkan label pada dataset dan menyimpannya pada sebuah variabel\n",
        "y = df['Outcome']\n",
        "#df['Outcome'] mengakses kolom bernama Outcome dalam dataframe df"
      ],
      "metadata": {
        "id": "vKXe-SILi5lS"
      },
      "execution_count": 33,
      "outputs": []
    },
    {
      "cell_type": "code",
      "source": [
        "from sklearn.model_selection import train_test_split\n",
        "\n",
        "# memisahkan data untuk training dan testing\n",
        "X_train, X_test, y_train, y_test = train_test_split(X, y, test_size=0.33, random_state=42)\n",
        "#test_size=0.33\n",
        "#test_size menentukan proporsi dari dataset yang akan digunakan sebagai test set.\n",
        "#0.33 berarti 33% dari dataset akan digunakan sebagai test set, dan sisanya (67%) akan digunakan sebagai training set.\n",
        "\n",
        "#random_state=42\n",
        "#random_state digunakan untuk memastikan bahwa pembagian dataset akan selalu sama setiap kali kode dijalankan.\n",
        "#Nilai ini adalah seed untuk generator angka acak. Dengan menetapkan random_state ke nilai tertentu (misalnya, 42), kita memastikan hasil yang dapat direproduksi (reproducibility).\n",
        "\n",
        "#X_train: Subset dari X yang digunakan untuk melatih model, berisi 67% data dari X.\n",
        "#X_test: Subset dari X yang digunakan untuk menguji model, berisi 33% data dari X.\n",
        "#y_train: Subset dari y yang sesuai dengan X_train, berisi label yang sesuai untuk melatih model.\n",
        "#y_test: Subset dari y yang sesuai dengan X_test, berisi label yang sesuai untuk menguji model."
      ],
      "metadata": {
        "id": "bOSzh5zfjmic"
      },
      "execution_count": 34,
      "outputs": []
    },
    {
      "cell_type": "markdown",
      "source": [
        "**Mengecek korelasi dari setiap fitur**"
      ],
      "metadata": {
        "id": "XTSOcLo3k-R2"
      }
    },
    {
      "cell_type": "markdown",
      "source": [
        "Cara Membaca Correlation Heatmap:\n",
        "\n",
        "- Korelasi positif (dekat dengan 1) menunjukkan hubungan positif di antara variabel, artinya ketika satu variabel naik, yang lainnya juga cenderung naik.\n",
        "\n",
        "- Korelasi negatif (dekat dengan -1) menunjukkan hubungan negatif, artinya ketika satu variabel naik, yang lainnya cenderung turun.\n",
        "\n",
        "- Korelasi mendekati 0 menunjukkan bahwa tidak ada hubungan linier yang kuat antara dua variabel.\n",
        "\n",
        "- Korelasi positif akan cenderung menunjukkan arah yang sama antara dua variabel, sedangkan korelasi negatif akan menunjukkan arah yang berlawanan"
      ],
      "metadata": {
        "id": "BAos5865lBk_"
      }
    },
    {
      "cell_type": "markdown",
      "source": [
        " menganalisis dan memvisualisasikan hubungan korelasi antara kolom-kolom numerik dalam DataFrame df"
      ],
      "metadata": {
        "id": "15qE0bZHmUH8"
      }
    },
    {
      "cell_type": "code",
      "source": [
        "import pandas as pd # untuk manipulasi data\n",
        "import seaborn as sns #untuk visualisasi data\n",
        "import matplotlib.pyplot as plt # untuk plotting\n",
        "\n",
        "# Pilih hanya kolom-kolom numerik\n",
        "numeric_columns = ['Age', 'NS1', 'IgG', 'IgM', 'Outcome']\n",
        "numeric_df = df[numeric_columns] #numeric_df adalah DataFrame baru yang hanya berisi kolom-kolom numerik yang telah dipilih\n",
        "\n",
        "# Hitung matriks korelasi\n",
        "correlation_matrix = numeric_df.corr()\n",
        "#numeric_df.corr() digunakan untuk menghitung matriks korelasi hasilnya disimpan dalam variabel correlation_matrix\n",
        "\n",
        "# Plot heatmap\n",
        "plt.figure(figsize=(10, 6)) #menetapkan ukuran  untuk plot\n",
        "sns.heatmap(correlation_matrix, annot=True, cmap='coolwarm', fmt=\".2f\", xticklabels=numeric_df.columns, yticklabels=numeric_df.columns)\n",
        "#correlation_matrix adalah data yang akan diplot.\n",
        "#annot=True memastikan bahwa nilai korelasi ditampilkan di setiap sel pada heatmap.\n",
        "#cmap='coolwarm' menetapkan skema warna untuk heatmap.\n",
        "#fmt=\".2f\" menetapkan format angka untuk nilai korelasi yang ditampilkan.\n",
        "#xticklabels dan yticklabels memastikan label pada sumbu x dan y sesuai dengan kolom-kolom dalam numeric_df.\n",
        "plt.title(\"Correlation Heatmap\")\n",
        "plt.show()\n"
      ],
      "metadata": {
        "colab": {
          "base_uri": "https://localhost:8080/",
          "height": 545
        },
        "id": "H2j13HY3lOfp",
        "outputId": "6861e257-4e46-4651-96a0-ed7a7a055c10"
      },
      "execution_count": 36,
      "outputs": [
        {
          "output_type": "display_data",
          "data": {
            "text/plain": [
              "<Figure size 1000x600 with 2 Axes>"
            ],
            "image/png": "[encoded data removed]"
          },
          "metadata": {}
        }
      ]
    },
    {
      "cell_type": "markdown",
      "source": [
        "**Pemodelan K-Means**"
      ],
      "metadata": {
        "id": "slaXpcvpNxGU"
      }
    },
    {
      "cell_type": "markdown",
      "source": [
        "K-Means adalah memilih sebuah\n",
        "sampel secara acak untuk\n",
        "dijadikan centroid. Centroid\n",
        "adalah sebuah sampel pada data\n",
        "yang menjadi pusat dari sebuah\n",
        "klaster."
      ],
      "metadata": {
        "id": "byOzvpQZm__y"
      }
    },
    {
      "cell_type": "markdown",
      "source": [
        "Cara paling mudah untuk menentukan jumlah K atau klaster pada K-\n",
        "means adalah dengan melihat langsung persebaran data.\n",
        "\n",
        "Ide mendasar dari metode elbow adalah untuk menjalankan K-Means\n",
        "pada dataset dengan nilai K pada jarak tertentu (1,2,3, .., N).\n",
        "Kemudian hitung inersia pada setiap nilai K. Inersia memberi tahu\n",
        "seberapa jauh jarak setiap sampel pada sebuah klaster. Semakin\n",
        "kecil inersia maka semakin baik karena jarak setiap sampel pada\n",
        "sebuah klaster lebih berdekatan.\n",
        "Metode elbow bertujuan untuk menentukan elbow, yaitu jumlah K\n",
        "yang optimal. Untuk menentukan elbow, kita perlu melakukannya\n",
        "secara manual, yaitu dengan melihat titik dimana penurunan inersia\n",
        "tidak lagi signifikan.\n",
        "\n",
        "Menentukan k terbaik menggunakan teknik elbow"
      ],
      "metadata": {
        "id": "CuV_FqcgN292"
      }
    },
    {
      "cell_type": "code",
      "source": [
        "import pandas as pd\n",
        "from sklearn.cluster import KMeans\n",
        "from sklearn.preprocessing import OneHotEncoder\n",
        "\n",
        "# Pilih kolom yang mengandung data kategorikal\n",
        "categorical_columns = ['Gender', 'Area', 'AreaType', 'HouseType', 'District']\n",
        "\n",
        "# Lakukan one-hot encoding pada kolom kategorikal\n",
        "encoder = OneHotEncoder(sparse=False)\n",
        "encoded_columns = encoder.fit_transform(df[categorical_columns])\n",
        "\n",
        "# Gabungkan kembali kolom hasil encoding dengan data asli\n",
        "encoded_df = pd.DataFrame(encoded_columns, index=df.index)\n",
        "df_encoded = pd.concat([df.drop(columns=categorical_columns), encoded_df], axis=1)\n",
        "\n",
        "# Konversi semua nama kolom menjadi string\n",
        "df_encoded.columns = df_encoded.columns.astype(str)\n",
        "\n",
        "# Terapkan KMeans\n",
        "k = 3\n",
        "kmeans = KMeans(n_clusters=k, random_state=42)\n",
        "clusters = kmeans.fit_predict(df_encoded)\n",
        "\n",
        "print(clusters)\n"
      ],
      "metadata": {
        "colab": {
          "base_uri": "https://localhost:8080/"
        },
        "id": "qcOBi-8RNd9V",
        "outputId": "f3b7f58b-bec5-4fd2-cc7f-8a875d37c01f"
      },
      "execution_count": 37,
      "outputs": [
        {
          "output_type": "stream",
          "name": "stdout",
          "text": [
            "[1 2 1 0 2 1 2 2 1 2 1 2 2 1 0 2 2 0 2 1 1 2 1 1 2 0 0 0 1 2 1 2 1 1 2 1 2\n",
            " 2 0 1 0 2 0 2 1 2 0 2 1 2 2 1 2 0 1 2 1 2 1 0 0 0 0 0 0 0 1 0 2 0 2 0 1 2\n",
            " 0 0 0 2 0 2 0 0 1 2 1 1 1 0 0 1 0 0 0 1 1 2 0 2 1 0 1 0 0 0 2 2 1 1 1 1 1\n",
            " 2 0 2 1 1 2 1 1 1 0 1 0 2 0 0 2 0 0 0 0 2 2 0 0 2 0 0 1 2 2 1 2 1 0 0 1 0\n",
            " 1 2 1 2 1 0 0 2 1 0 1 1 1 2 2 2 2 0 1 2 1 1 1 2 2 1 2 0 2 1 1 1 2 1 1 0 0\n",
            " 1 2 0 0 2 0 2 0 0 0 1 1 0 0 1 1 2 0 0 0 1 0 1 1 1 1 1 2 1 0 1 0 0 2 0 1 1\n",
            " 0 1 1 0 0 2 2 1 1 0 1 0 0 1 1 2 1 2 0 0 2 1 1 1 0 1 2 2 1 2 2 2 1 1 0 1 2\n",
            " 0 1 2 0 0 2 2 2 1 1 1 1 1 1 0 1 1 2 1 2 2 1 0 1 1 2 1 2 1 0 2 0 1 2 2 2 0\n",
            " 0 2 2 1 0 1 2 1 1 0 1 1 1 1 0 1 1 2 2 0 2 2 0 0 0 2 1 1 0 1 1 0 2 1 2 2 2\n",
            " 1 0 0 2 2 0 2 2 0 1 0 1 0 0 1 2 0 0 2 2 0 0 1 2 1 2 0 0 0 2 0 0 0 0 0 0 2\n",
            " 2 0 1 0 1 2 2 2 2 2 0 1 0 1 2 0 1 2 2 0 1 1 2 0 2 2 1 2 0 0 2 1 0 1 2 2 0\n",
            " 2 2 1 0 2 0 1 2 0 0 1 2 2 1 1 2 1 2 2 2 1 1 1 0 1 0 1 1 2 2 2 1 2 2 0 2 0\n",
            " 0 1 0 1 0 1 0 1 1 0 1 1 2 1 2 0 0 1 2 1 2 1 1 0 1 0 2 1 1 2 2 0 0 1 1 1 0\n",
            " 0 1 2 0 1 2 1 0 0 0 2 1 2 2 2 2 1 1 0 1 2 1 2 2 2 2 1 1 2 2 0 0 1 0 0 2 2\n",
            " 0 2 2 2 2 2 0 2 2 1 0 0 1 1 1 0 2 2 1 0 1 2 0 1 1 0 1 1 0 1 0 2 2 1 0 2 1\n",
            " 0 1 1 2 2 2 1 1 2 1 2 1 1 1 1 0 2 0 2 2 0 2 0 0 0 0 0 1 1 2 0 1 2 1 0 1 2\n",
            " 1 0 2 1 1 0 1 0 0 1 1 0 1 2 0 1 0 2 2 2 0 1 0 2 2 2 1 0 1 0 2 1 0 2 1 2 1\n",
            " 0 0 0 0 0 2 0 2 0 1 2 0 1 2 0 1 2 1 0 1 2 1 0 2 2 2 2 0 1 0 0 2 1 1 2 2 0\n",
            " 0 0 2 2 0 0 1 1 0 0 1 1 2 2 2 0 2 2 1 1 0 1 1 2 0 1 0 2 1 1 2 2 0 0 1 2 1\n",
            " 0 1 2 2 1 2 0 2 1 2 0 2 2 1 0 1 2 1 2 1 0 2 0 2 2 2 0 1 1 1 0 0 1 1 0 2 1\n",
            " 1 0 0 1 2 2 1 2 0 1 1 2 0 1 0 1 0 2 0 1 2 1 1 1 0 2 2 2 1 1 1 1 0 2 2 0 0\n",
            " 2 1 0 2 1 0 1 1 1 0 2 1 1 1 0 1 0 1 1 1 1 2 1 2 0 1 1 1 2 0 1 2 2 0 0 1 0\n",
            " 1 0 1 2 1 0 2 2 1 0 2 2 1 2 1 2 0 0 2 1 1 0 0 2 0 1 2 0 0 0 0 2 1 1 2 2 1\n",
            " 1 0 0 2 1 1 1 2 0 0 2 2 0 1 2 0 1 2 1 2 1 0 2 2 1 1 0 1 2 2 2 2 2 1 1 1 1\n",
            " 1 1 0 1 2 1 2 2 0 2 1 2 0 1 1 2 2 1 2 1 0 2 1 0 1 1 2 1 1 1 0 0 0 0 1 0 0\n",
            " 0 1 1 1 2 1 0 0 2 0 1 2 2 0 2 2 1 2 1 2 2 2 0 1 0 2 0 0 2 0 0 2 1 0 1 2 2\n",
            " 1 0 0 0 0 1 1 0 1 1 2 2 1 0 1 1 0 0 2 1 1 2 2 0 2 0 2 2 1 1 2 2 1 2 1 1 2\n",
            " 1]\n"
          ]
        }
      ]
    },
    {
      "cell_type": "code",
      "source": [
        "import pandas as pd\n",
        "from sklearn.cluster import KMeans\n",
        "from sklearn.preprocessing import OneHotEncoder\n",
        "\n",
        "\n",
        "# Pilih kolom yang mengandung data kategorikal\n",
        "categorical_columns = ['Gender', 'Area', 'AreaType', 'HouseType', 'District']\n",
        "\n",
        "# Lakukan one-hot encoding pada kolom kategorikal\n",
        "encoder = OneHotEncoder(sparse=False)\n",
        "encoded_columns = encoder.fit_transform(df[categorical_columns])\n",
        "\n",
        "# Gabungkan kembali kolom hasil encoding dengan data asli\n",
        "encoded_df = pd.DataFrame(encoded_columns, index=df.index)\n",
        "df_encoded = pd.concat([df.drop(columns=categorical_columns), encoded_df], axis=1)\n",
        "\n",
        "# Konversi semua nama kolom menjadi string\n",
        "df_encoded.columns = df_encoded.columns.astype(str)\n",
        "\n",
        "# Terapkan KMeans\n",
        "k = 3\n",
        "kmeans = KMeans(n_clusters=k, random_state=42)\n",
        "clusters = kmeans.fit_predict(df_encoded)\n",
        "\n",
        "# Tambahkan label cluster ke DataFrame asli\n",
        "df['Cluster'] = clusters\n",
        "\n",
        "# Tampilkan beberapa baris pertama dari DataFrame dengan label cluster\n",
        "print(df.head())\n"
      ],
      "metadata": {
        "colab": {
          "base_uri": "https://localhost:8080/"
        },
        "id": "rroOZ51eRR5B",
        "outputId": "0655f997-b030-4467-86b1-0d963c3b9d74"
      },
      "execution_count": 38,
      "outputs": [
        {
          "output_type": "stream",
          "name": "stdout",
          "text": [
            "   Gender  Age  NS1  IgG  IgM        Area     AreaType HouseType District  \\\n",
            "0       0   45    0    0    0      Mirpur  Undeveloped  Building    Dhaka   \n",
            "1       1   17    0    0    1  Chawkbazar    Developed  Building    Dhaka   \n",
            "2       0   29    0    0    0      Paltan  Undeveloped     Other    Dhaka   \n",
            "3       0   63    1    1    0   Motijheel    Developed     Other    Dhaka   \n",
            "4       1   22    0    0    0    Gendaria  Undeveloped  Building    Dhaka   \n",
            "\n",
            "   Outcome  Cluster  \n",
            "0        0        1  \n",
            "1        0        2  \n",
            "2        0        1  \n",
            "3        1        0  \n",
            "4        0        2  \n"
          ]
        }
      ]
    },
    {
      "cell_type": "code",
      "source": [
        "from sklearn.cluster import KMeans\n",
        "from sklearn.preprocessing import StandardScaler, LabelEncoder\n",
        "\n",
        "\n",
        "# Contoh menggunakan LabelEncoder untuk kolom 'Gender'\n",
        "label_encoder = LabelEncoder()\n",
        "df['Gender_encoded'] = label_encoder.fit_transform(df['Gender'])  # Mengubah 'Gender' menjadi numerik\n",
        "\n",
        "# Sekarang hanya pilih kolom numerik untuk dilatih dengan KMeans\n",
        "numeric_cols = df.select_dtypes(include=['float64', 'int64']).columns.tolist()\n",
        "\n",
        "inertia = []\n",
        "for k in range(1, 11):\n",
        "    kmeans = KMeans(n_clusters=k, random_state=42)\n",
        "    kmeans.fit(df[numeric_cols])  # Melatih model KMeans pada kolom numerik dari df\n",
        "    inertia.append(kmeans.inertia_)  # Menambahkan nilai inertia ke dalam list inertia\n"
      ],
      "metadata": {
        "id": "9tfoFd7uSGAq"
      },
      "execution_count": 39,
      "outputs": []
    },
    {
      "cell_type": "code",
      "source": [
        "plt.figure(figsize=(8, 6))\n",
        "plt.plot(range(1, 11), inertia, marker='o')\n",
        "#plt.plot yang digunakan untuk membuat plot garis.\n",
        "#range(1, 11) nilai k berada dari 1 hingga 10\n",
        "#inertia: Ini adalah list yang berisi nilai inertia yang dihitung untuk setiap nilai k dari 1 hingga 10.\n",
        "#marker='o': Argumen ini digunakan untuk menentukan jenis marker yang digunakan pada titik-titik data dalam plot.\n",
        "#Di sini, 'o' menunjukkan bahwa titik-titik akan ditandai dengan lingkaran (bulatan).\n",
        "\n",
        "plt.xlabel('Number of Clusters (K)')\n",
        "plt.ylabel('Inertia')\n",
        "plt.title('Elbow Method')\n",
        "plt.show()"
      ],
      "metadata": {
        "id": "sNcCgS54TnPr",
        "colab": {
          "base_uri": "https://localhost:8080/",
          "height": 564
        },
        "outputId": "464aff0e-2d38-484c-882c-a91ae9fca9a8"
      },
      "execution_count": 40,
      "outputs": [
        {
          "output_type": "display_data",
          "data": {
            "text/plain": [
              "<Figure size 800x600 with 1 Axes>"
            ],
            "image/png": "[encoded data removed]"
          },
          "metadata": {}
        }
      ]
    },
    {
      "cell_type": "code",
      "source": [
        "from sklearn.cluster import KMeans\n",
        "from sklearn.preprocessing import LabelEncoder\n",
        "\n",
        "label_encoder = LabelEncoder()\n",
        "df['Gender_encoded'] = label_encoder.fit_transform(df['Gender'])\n",
        "\n",
        "# Hanya pilih kolom numerik untuk clustering\n",
        "numeric_cols = df.select_dtypes(include=['float64', 'int64']).columns.tolist()\n",
        "\n",
        "# Lakukan clustering dengan KMeans\n",
        "k = 3\n",
        "kmeans = KMeans(n_clusters=k, random_state=42)\n",
        "clusters = kmeans.fit_predict(df[numeric_cols])\n"
      ],
      "metadata": {
        "id": "eZ25DI8ETrug"
      },
      "execution_count": 42,
      "outputs": []
    },
    {
      "cell_type": "markdown",
      "source": [
        "**Visualisasi**"
      ],
      "metadata": {
        "id": "yvFpZxChY2mV"
      }
    },
    {
      "cell_type": "markdown",
      "source": [
        "Catatan: Untuk K-Means hanya bisa memvisualisasikan 2 fitur"
      ],
      "metadata": {
        "id": "U2WdIAm4g7ex"
      }
    },
    {
      "cell_type": "code",
      "source": [
        "plt.figure(figsize=(10, 6))\n",
        "plt.scatter(df['Gender'], df['Age'], c=clusters, cmap='viridis', s=100)\n",
        "\n",
        "plt.xlabel('Gender')\n",
        "plt.ylabel('Age')\n",
        "plt.title('K-Means Clustering (k=3)')\n",
        "plt.show()"
      ],
      "metadata": {
        "colab": {
          "base_uri": "https://localhost:8080/",
          "height": 564
        },
        "id": "k9ZtGlSSY71A",
        "outputId": "07e572f9-40f1-4441-bc42-e004d6c5986d"
      },
      "execution_count": 43,
      "outputs": [
        {
          "output_type": "display_data",
          "data": {
            "text/plain": [
              "<Figure size 1000x600 with 1 Axes>"
            ],
            "image/png": "[encoded data removed]"
          },
          "metadata": {}
        }
      ]
    },
    {
      "cell_type": "markdown",
      "source": [
        "# Modeling data"
      ],
      "metadata": {
        "id": "WGPY7kpnfy2R"
      }
    },
    {
      "cell_type": "markdown",
      "source": [
        "Machine Learning Model adalah program komputer yang biasa digunakan\n",
        "untuk mengenali pola dalam data ataupun membuat sebuah prediksi.\n",
        "\n",
        "Machine learning model ini dibuat dari algoritma machine learning, yang\n",
        "dilatih menggunakan data berlabel, tidak berlabel, maupun yang\n",
        "menggunakan data campuran.\n",
        "\n",
        "Machine learning dibuat berdasarkan algoritma dengan salah satu data\n",
        "berlabel (Supervised Learning), tidak berlabel (Unsupervised Learning),\n",
        "maupun menggunakan data campuran (Reinforcement Learning).\n",
        "\n",
        "Training model adalah proses untuk menjalankan sebuah algoritma machine\n",
        "learning untuk dapat mengolah dataset di dalamnya yang sudah terbagi\n",
        "menjadi data training dan mengoptimalkan algoritma untuk menemukan\n",
        "pola maupun output tertentu.\n",
        "\n",
        "Fungsi ini akan menghasilkan sebuah aturan dan juga struktur data yang\n",
        "disebut dengan trained machine learning model."
      ],
      "metadata": {
        "id": "vOhOSq3wpt0q"
      }
    },
    {
      "cell_type": "code",
      "source": [
        "X_train['District'] = df.loc[X_train.index, 'District']\n",
        "X_test['District'] = df.loc[X_test.index, 'District']\n",
        "\n",
        "label_encoder = LabelEncoder()\n",
        "X_train['District_encoded'] = label_encoder.fit_transform(X_train['District'])\n",
        "X_test['District_encoded'] = label_encoder.transform(X_test['District'])\n",
        "\n",
        "#Menghapus Kolom 'District' yang Tidak Terkait dengan Proses Pelatihan Model\n",
        "X_train.drop('District', axis=1, inplace=True)\n",
        "X_test.drop('District', axis=1, inplace=True)\n"
      ],
      "metadata": {
        "id": "-BA2E_7oj3iM"
      },
      "execution_count": 44,
      "outputs": []
    },
    {
      "cell_type": "markdown",
      "source": [
        "**Modeling Menggunakan SVM**"
      ],
      "metadata": {
        "id": "f2P0bme9nwm-"
      }
    },
    {
      "cell_type": "markdown",
      "source": [
        "Support Vector Machine adalah model ML multifungsi yang dapat\n",
        "digunakan untuk menyelesaikan permasalahan klasifikasi, regresi, dan\n",
        "pendeteksian outlier.\n",
        "\n",
        "Tujuan dari algoritma SVM adalah untuk menemukan hyperplane\n",
        "terbaik dalam ruang berdimensi-N (ruang dengan N-jumlah fitur) yang\n",
        "berfungsi sebagai pemisah yang jelas bagi titik-titik data input.\n",
        "Keunggulan Support Vector Machine antara lain: SVM efektif pada data\n",
        "berdimensi tinggi (data dengan jumlah fitur atau atribut yang sangat\n",
        "banyak)\n",
        "\n",
        "SVM efektif pada kasus di mana jumlah fitur pada data lebih besar dari\n",
        "jumlah sampel, dan SVM menggunakan subset poin pelatihan dalam\n",
        "fungsi keputusan (disebut support vector) sehingga membuat\n",
        "penggunaan memori menjadi lebih efisien."
      ],
      "metadata": {
        "id": "aTDSJUNDp_49"
      }
    },
    {
      "cell_type": "code",
      "source": [
        "import pandas as pd\n",
        "from sklearn.model_selection import train_test_split\n",
        "from sklearn.svm import SVC\n",
        "from sklearn.metrics import accuracy_score\n",
        "from sklearn.preprocessing import LabelEncoder\n",
        "\n",
        "# Encode kolom kategorikal menjadi numerik\n",
        "encoder = LabelEncoder()\n",
        "df['Gender_encoded'] = encoder.fit_transform(df['Gender'])\n",
        "df['Area_encoded'] = encoder.fit_transform(df['Area'])\n",
        "df['AreaType_encoded'] = encoder.fit_transform(df['AreaType'])\n",
        "df['HouseType_encoded'] = encoder.fit_transform(df['HouseType'])\n",
        "df['District_encoded'] = encoder.fit_transform(df['District'])\n",
        "\n",
        "# Pisahkan fitur (X) dan label (y)\n",
        "X = df[['Gender_encoded', 'Age', 'NS1', 'IgG', 'IgM', 'Area_encoded', 'AreaType_encoded', 'HouseType_encoded', 'District_encoded']]\n",
        "y = df['Outcome']\n",
        "\n",
        "# Bagi data menjadi data latih dan data uji\n",
        "X_train, X_test, y_train, y_test = train_test_split(X, y, test_size=0.2, random_state=42)\n",
        "\n",
        "# Inisialisasi model SVM\n",
        "clf = SVC()\n",
        "\n",
        "# Latih model SVM dengan data latih\n",
        "clf.fit(X_train, y_train)\n",
        "\n",
        "# Lakukan prediksi pada data uji\n",
        "y_pred = clf.predict(X_test)\n",
        "\n",
        "# Hitung akurasi model\n",
        "accuracy = accuracy_score(y_test, y_pred)\n",
        "print(\"Akurasi Model SVM:\", accuracy)"
      ],
      "metadata": {
        "colab": {
          "base_uri": "https://localhost:8080/"
        },
        "id": "RmksaTofmEOg",
        "outputId": "ed42b5af-ab86-41e2-e4c0-9026efefa7f9"
      },
      "execution_count": 46,
      "outputs": [
        {
          "output_type": "stream",
          "name": "stdout",
          "text": [
            "Akurasi Model SVM: 0.605\n"
          ]
        }
      ]
    },
    {
      "cell_type": "markdown",
      "source": [
        "**Modeling Menggunakan Decision Tree**"
      ],
      "metadata": {
        "id": "YPvM0BN6n3ha"
      }
    },
    {
      "cell_type": "markdown",
      "source": [
        "Decision tree atau pohon keputusan adalah salah satu\n",
        "algoritma supervised learning yang dapat dipakai untuk\n",
        "masalah klasifikasi dan regresi. Decision tree merupakan\n",
        "algoritma yang powerful alias mampu dipakai dalam masalah\n",
        "yang kompleks.\n",
        "\n",
        "Decision tree juga merupakan komponen\n",
        "pembangun utama algoritma Random Forest, yang merupakan\n",
        "salah satu algoritma paling powerful saat ini. Decision tree\n",
        "memprediksi sebuah kelas (klasifikasi) atau nilai (regresi)\n",
        "berdasarkan aturan-aturan yang dibentuk setelah mempelajari\n",
        "data."
      ],
      "metadata": {
        "id": "VX1n7-4eqdzm"
      }
    },
    {
      "cell_type": "code",
      "source": [
        "from sklearn.tree import DecisionTreeClassifier\n",
        "dtc = DecisionTreeClassifier()\n",
        "dtc.fit(X_train, y_train)\n",
        "\n",
        "# Lakukan prediksi pada data pengujian\n",
        "y_pred_dtc = dtc.predict(X_test)\n",
        "\n",
        "# Hitung akurasi model\n",
        "accuracy = accuracy_score(y_test, y_pred_dtc)\n",
        "\n",
        "print(\"Akurasi Model:\", accuracy)"
      ],
      "metadata": {
        "colab": {
          "base_uri": "https://localhost:8080/"
        },
        "id": "u_EaYIVomMVP",
        "outputId": "69f536ff-dd39-4b5b-ad77-e88141f92d91"
      },
      "execution_count": 47,
      "outputs": [
        {
          "output_type": "stream",
          "name": "stdout",
          "text": [
            "Akurasi Model: 1.0\n"
          ]
        }
      ]
    },
    {
      "cell_type": "markdown",
      "source": [
        "**Modeling Menggunakan Logistic Regression**"
      ],
      "metadata": {
        "id": "igS6ea_Dn98h"
      }
    },
    {
      "cell_type": "markdown",
      "source": [
        "Logistic regression dikenal juga sebagai logit regression, maximum-\n",
        "entropy classification, dan log-linear classification merupakan salah\n",
        "\n",
        "satu metode yang umum digunakan untuk klasifikasi.\n",
        "Pada kasus klasifikasi, logistic regression bekerja dengan menghitung\n",
        "probabilitas kelas dari sebuah sampel.\n",
        "\n",
        "Sesuai namanya, logistic regression menggunakan fungsi logistik\n",
        "seperti di bawah untuk menghitung probabilitas kelas dari sebuah\n",
        "sampel. Contohnya sebuah email memiliki probabilitas 78% merupakan\n",
        "spam maka email tersebut termasuk dalam kelas spam. Dan jika\n",
        "sebuah email memiliki < 50% probabilitas merupakan spam, maka email\n",
        "tersebut diklasifikasikan bukan spam."
      ],
      "metadata": {
        "id": "ZdjvQzVQq-SJ"
      }
    },
    {
      "cell_type": "code",
      "source": [
        "from sklearn import linear_model\n",
        "\n",
        "logistic = linear_model.LogisticRegression()\n",
        "logistic.fit(X_train, y_train)\n",
        "\n",
        "# Lakukan prediksi pada data pengujian\n",
        "y_pred_logistic = logistic.predict(X_test)\n",
        "\n",
        "# Hitung akurasi model\n",
        "accuracy = accuracy_score(y_test, y_pred_logistic)\n",
        "\n",
        "print(\"Akurasi Model:\", accuracy)"
      ],
      "metadata": {
        "colab": {
          "base_uri": "https://localhost:8080/"
        },
        "id": "0lUDQY6umXqv",
        "outputId": "7e059c78-ce1d-4112-8ae9-4fd7a855f833"
      },
      "execution_count": 48,
      "outputs": [
        {
          "output_type": "stream",
          "name": "stdout",
          "text": [
            "Akurasi Model: 1.0\n"
          ]
        }
      ]
    },
    {
      "cell_type": "markdown",
      "source": [
        "# Evaluation"
      ],
      "metadata": {
        "id": "G5t0KmMdX3oX"
      }
    },
    {
      "cell_type": "markdown",
      "source": [
        "Dalam proses pengembangan model machine learning, tidak\n",
        "semua model yang dihasilkan bisa langsung digunakan. Data\n",
        "Scientist perlu untuk melakukan pengujian dan evaluasi dari\n",
        "model tersebut.\n",
        "\n",
        "Pengujian dan evaluasi model adalah tugas penting bagi seorang\n",
        "Data Scientist untuk memastikan kualitas dan keandalan model\n",
        "yang dikembangkan. Dengan memperhatikan tugas ini, Data\n",
        "Scientist dapat memastikan bahwa keputusan dan wawasan\n",
        "yang diambil dari data dapat menjadi dasar yang solid dalam\n",
        "pengambilan keputusan bisnis atau dalam mengembangkan\n",
        "solusi yang efektif."
      ],
      "metadata": {
        "id": "ULNj2ePBs0Uq"
      }
    },
    {
      "cell_type": "markdown",
      "source": [
        "**Confusion Matrix**"
      ],
      "metadata": {
        "id": "l_tZUiVXX-Vr"
      }
    },
    {
      "cell_type": "markdown",
      "source": [
        "Menggunakan SVM"
      ],
      "metadata": {
        "id": "i5L0LVM-UGph"
      }
    },
    {
      "cell_type": "code",
      "source": [
        "from sklearn.svm import SVC\n",
        "\n",
        "# Inisialisasi model SVM\n",
        "svm_model = SVC()\n",
        "\n",
        "# Latih model SVM dengan data latih\n",
        "svm_model.fit(X_train, y_train)\n",
        "\n",
        "# Lakukan prediksi pada data uji\n",
        "y_pred_svm = svm_model.predict(X_test)\n",
        "\n",
        "# Hitung confusion matrix\n",
        "conf_matrix_svm = confusion_matrix(y_test, y_pred_svm)\n",
        "\n",
        "# Plot heatmap dari confusion matrix\n",
        "plt.figure(figsize=(8, 6))\n",
        "sns.heatmap(conf_matrix_svm, annot=True, fmt='d', cmap='Blues', cbar=False)\n",
        "plt.xlabel('Predicted')\n",
        "plt.ylabel('Actual')\n",
        "plt.title('Confusion Matrix SVM')\n",
        "plt.show()\n"
      ],
      "metadata": {
        "colab": {
          "base_uri": "https://localhost:8080/",
          "height": 564
        },
        "id": "-Ajb8LgFTkhd",
        "outputId": "ca791448-021c-4500-fea1-37d30297d5fa"
      },
      "execution_count": 55,
      "outputs": [
        {
          "output_type": "display_data",
          "data": {
            "text/plain": [
              "<Figure size 800x600 with 1 Axes>"
            ],
            "image/png": "[encoded data removed]"
          },
          "metadata": {}
        }
      ]
    },
    {
      "cell_type": "markdown",
      "source": [
        "menggunakan DecisionTree"
      ],
      "metadata": {
        "id": "fhFQZsxgUImA"
      }
    },
    {
      "cell_type": "code",
      "source": [
        "from sklearn.tree import DecisionTreeClassifier\n",
        "from sklearn.metrics import confusion_matrix\n",
        "import seaborn as sns\n",
        "import matplotlib.pyplot as plt\n",
        "\n",
        "# Inisialisasi model Decision Tree Classifier\n",
        "dtc = DecisionTreeClassifier(random_state=42)\n",
        "\n",
        "# Latih model Decision Tree dengan data latih\n",
        "dtc.fit(X_train, y_train)\n",
        "\n",
        "# Lakukan prediksi pada data uji\n",
        "y_pred_dtc = dtc.predict(X_test)\n",
        "\n",
        "# Hitung confusion matrix\n",
        "cm_dtc = confusion_matrix(y_test, y_pred_dtc)\n",
        "\n",
        "# Plot heatmap dari confusion matrix\n",
        "plt.figure(figsize=(8, 6))\n",
        "sns.heatmap(cm_dtc, annot=True, fmt='d', cmap='Blues', cbar=False)\n",
        "plt.xlabel('Predicted')\n",
        "plt.ylabel('Actual')\n",
        "plt.title('Confusion Matrix Decision Tree')\n",
        "plt.show()\n"
      ],
      "metadata": {
        "colab": {
          "base_uri": "https://localhost:8080/",
          "height": 564
        },
        "id": "q9jLO2-6TxQv",
        "outputId": "6aefa98c-06db-4086-bfb3-36dacd7f52d2"
      },
      "execution_count": 56,
      "outputs": [
        {
          "output_type": "display_data",
          "data": {
            "text/plain": [
              "<Figure size 800x600 with 1 Axes>"
            ],
            "image/png": "[encoded data removed]"
          },
          "metadata": {}
        }
      ]
    },
    {
      "cell_type": "markdown",
      "source": [
        "menggunakan Logistic Regression"
      ],
      "metadata": {
        "id": "sLIHc4KzUN5C"
      }
    },
    {
      "cell_type": "code",
      "source": [
        "from sklearn.linear_model import LogisticRegression\n",
        "from sklearn.metrics import confusion_matrix\n",
        "import seaborn as sns\n",
        "import matplotlib.pyplot as plt\n",
        "\n",
        "# Inisialisasi model Logistic Regression\n",
        "logistic = LogisticRegression(random_state=42)\n",
        "\n",
        "# Latih model Logistic Regression dengan data latih\n",
        "logistic.fit(X_train, y_train)\n",
        "\n",
        "# Lakukan prediksi pada data uji\n",
        "y_pred_logistic = logistic.predict(X_test)\n",
        "\n",
        "# Hitung confusion matrix\n",
        "cm_logistic = confusion_matrix(y_test, y_pred_logistic)\n",
        "\n",
        "# Plot heatmap dari confusion matrix\n",
        "plt.figure(figsize=(8, 6))\n",
        "sns.heatmap(cm_logistic, annot=True, fmt='d', cmap='Blues', cbar=False)\n",
        "plt.xlabel('Predicted')\n",
        "plt.ylabel('Actual')\n",
        "plt.title('Confusion Matrix Logistic Regression')\n",
        "plt.show()\n"
      ],
      "metadata": {
        "colab": {
          "base_uri": "https://localhost:8080/",
          "height": 564
        },
        "id": "9Ptmef4ST0Go",
        "outputId": "7db5571d-2ae8-4977-d9af-fbe7947e4730"
      },
      "execution_count": 57,
      "outputs": [
        {
          "output_type": "display_data",
          "data": {
            "text/plain": [
              "<Figure size 800x600 with 1 Axes>"
            ],
            "image/png": "[encoded data removed]"
          },
          "metadata": {}
        }
      ]
    },
    {
      "cell_type": "markdown",
      "source": [
        "Sebanyak 87 data terbukti benar dalam prediksi untuk label 0\n",
        "\n",
        "Sebanyak 113 data terbukti benar dalam prediksi untuk label 1"
      ],
      "metadata": {
        "id": "2YNx_btahaEQ"
      }
    },
    {
      "cell_type": "markdown",
      "source": [
        "**Predicting Dengue**"
      ],
      "metadata": {
        "id": "hhO0bFjNerae"
      }
    },
    {
      "cell_type": "code",
      "source": [
        "import pandas as pd\n",
        "from sklearn.linear_model import LogisticRegression\n",
        "from sklearn.preprocessing import LabelEncoder\n",
        "\n",
        "# Step 1: Memuat dataset dan pra-pemrosesan data\n",
        "df = pd.read_csv('Dataset.csv')\n",
        "\n",
        "# Menghapus kolom yang tidak diperlukan untuk prediksi\n",
        "df = df.drop('District', axis=1)\n",
        "\n",
        "# Memisahkan fitur (X) dan target (y)\n",
        "X = df.drop('Outcome', axis=1)  # Fitur-fitur untuk melakukan prediksi\n",
        "y = df['Outcome']  # Target atau label yang ingin diprediksi (0 atau 1)\n",
        "\n",
        "# Menggunakan LabelEncoder untuk mengkodekan variabel kategorikal\n",
        "label_encoders = {}\n",
        "for column in ['Gender', 'Area', 'AreaType', 'HouseType']:\n",
        "    le = LabelEncoder()\n",
        "    X[column] = le.fit_transform(X[column])\n",
        "    label_encoders[column] = le\n",
        "\n",
        "# Step 2: Pelatihan model\n",
        "model = LogisticRegression()\n",
        "model.fit(X, y)\n",
        "\n",
        "# Step 3: Fungsi prediksi berdasarkan input\n",
        "def predict_outcome(input_data):\n",
        "    input_df = pd.DataFrame([input_data])\n",
        "\n",
        "    # Menggunakan label encoder yang sama yang digunakan sebelumnya\n",
        "    for col, le in label_encoders.items():\n",
        "        input_df[col] = le.transform(input_df[col])\n",
        "\n",
        "    # Prediksi Outcome\n",
        "    prediction = model.predict(input_df)\n",
        "\n",
        "    return prediction[0]\n",
        "\n",
        "# Contoh penggunaan fungsi predict_outcome\n",
        "input_data = {\n",
        "    'Gender': 'Female',\n",
        "    'Age': 30,\n",
        "    'NS1': 1,\n",
        "    'IgG': 1,\n",
        "    'IgM': 0,\n",
        "    'Area': 'Mirpur',\n",
        "    'AreaType': 'Undeveloped',\n",
        "    'HouseType': 'Building'\n",
        "}\n",
        "\n",
        "predicted_outcome = predict_outcome(input_data)\n",
        "print(f\"Predicted Outcome: {predicted_outcome}\")\n"
      ],
      "metadata": {
        "colab": {
          "base_uri": "https://localhost:8080/"
        },
        "id": "29qiIf94qpXY",
        "outputId": "185efa0d-b6ec-46e6-a220-3cdb47d32938"
      },
      "execution_count": 58,
      "outputs": [
        {
          "output_type": "stream",
          "name": "stdout",
          "text": [
            "Predicted Outcome: 1\n"
          ]
        }
      ]
    },
    {
      "cell_type": "markdown",
      "source": [
        "# **Conclusion**"
      ],
      "metadata": {
        "id": "_WhQa3gb1wGa"
      }
    },
    {
      "cell_type": "markdown",
      "source": [
        "Dengan menggunakan analisis korelasi heatmap, dapat disimpulkan bahwa faktor yang sangat signifikan dalam menentukan apakah seseorang terkena demam berdarah adalah NS1 dan IgG, dengan masing-masing memiliki korelasi yang sangat tinggi terhadap hasil (Outcome), yaitu 0.96 dan 0.97. Hal ini menunjukkan bahwa hasil tes NS1 dan IgG bisa menjadi prediktor yang kuat untuk kondisi tersebut.\n",
        "\n",
        "Dari hasil evaluasi tiga model machine learning yang digunakan, yaitu SVM, Decision Tree, dan Logistic Regression, diketahui bahwa Decision Tree dan Logistic Regression mencapai akurasi tertinggi, yakni mencapai 1.0. Hal ini mengindikasikan bahwa kedua model tersebut sangat cocok untuk memodelkan dan memprediksi data terkait demam berdarah.\n",
        "\n",
        "Hasil evaluasi menggunakan confusion matrix dari pohon decision tree dan logistic regression  menunjukkan bahwa  200 data yang dievaluasi dari 33% data yang diuji, model berhasil memprediksi dengan tepat 87 kasus berlabel 0 (tidak terinfeksi) dan 113 kasus berlabel 1 (terinfeksi). Penggunaan SVM berhasil memprediksi dengan tepat 46 kasus berlabel 0 (tidak terinfeksi) dan 105 kasus berlabel 1 (terinfeksi). Hal ini menunjukkan bahwa model decision tree dan logistic regression  mempunyai kinerja yang baik.\n",
        "\n",
        "Dengan menerapkan teknik machine learning seperti logistic regression, kita dapat memanfaatkan informasi seperti jenis kelamin, usia, hasil tes NS1, IgG, IgM, serta lokasi dan jenis tempat tinggal untuk memprediksi kemungkinan seseorang terinfeksi demam berdarah. Model ini menghasilkan output berupa prediksi Outcome yang dapat berupa 1 (terinfeksi demam berdarah) atau 0 (tidak terinfeksi).\n",
        "\n",
        "Dengan demikian, menggunakan pendekatan machine learning dan evaluasi yang tepat seperti ini, kita dapat lebih baik dalam memahami dan memprediksi risiko terkena demam berdarah berdasarkan faktor-faktor yang signifikan dari data kesehatan yang tersedia."
      ],
      "metadata": {
        "id": "Yo4l1mvF15Fb"
      }
    }
  ]
}